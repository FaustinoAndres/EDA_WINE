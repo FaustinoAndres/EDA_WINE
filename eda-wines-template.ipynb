{
 "cells": [
  {
   "cell_type": "markdown",
   "source": "# Proyecto: Análisis Exploratorio de Datos - calidad de vinos",
   "metadata": {
    "cell_id": "c761e360edd24745a631ee7f55b818af",
    "tags": [],
    "deepnote_cell_type": "markdown",
    "deepnote_cell_height": 133.3333282470703
   }
  },
  {
   "cell_type": "markdown",
   "source": "<img src=/work/EDA_WINE/edawine.png>\n\nEsta notebook es parte de un Proyecto de la [Escuela de Data Science e Inteligencia Artificial de Platzi](https://platzi.com/datos).\n\nTodos los detalles [aquí](https://platzi.com/blog/ejercicio-eda-wine).",
   "metadata": {
    "cell_id": "efe3cd0c80c64b0dacad082cfb09b86f",
    "tags": [],
    "deepnote_cell_type": "markdown",
    "deepnote_cell_height": 578.0333251953125
   }
  },
  {
   "cell_type": "markdown",
   "source": "## Instrucciones generales\n\na) Sigue el paso a paso de cada sección. Para ello tendrás que leer indicaciones para saber qué hacer en cada etapa del EDA.\n\nb) Completa el código en las celdas correspondientes para realizar tu análisis exploratorio de datos (EDA). Por ejemplo, encontrarás código incompleto marcado con guiones bajos (____):\n",
   "metadata": {
    "cell_id": "35af0a5932444e44aa11d533552cec08",
    "tags": [],
    "deepnote_cell_type": "markdown",
    "deepnote_cell_height": 166.53334045410156
   }
  },
  {
   "cell_type": "code",
   "metadata": {
    "cell_id": "eae6571343974fff88b9fa394e58c42b",
    "tags": [],
    "deepnote_to_be_reexecuted": false,
    "source_hash": "e2033b31",
    "execution_start": 1653345558952,
    "execution_millis": 6,
    "deepnote_cell_type": "code",
    "deepnote_cell_height": 128.86666870117188
   },
   "source": "school = 'Platzi'\nprint(school) # Incluir la variable declarada anteriormente.",
   "execution_count": 1,
   "outputs": [
    {
     "name": "stdout",
     "text": "Platzi\n",
     "output_type": "stream"
    }
   ]
  },
  {
   "cell_type": "markdown",
   "source": "c) Escribe el código que veas conveniente para desarrollar lo que se pida en el EDA. Encontrarás secciones sin ninguna guía de código para que con tu creatividad uses las herramientas que veas necesarias.\n\nd) No te límites. Agrega bloques de código y de Markdown cuando lo necesites.\n\ne) Al final de cada sección encontrarás clases específicas de cursos de Platzi. Recuerda que en esos cursos es donde puedes aprender cómo resolver el proyecto. Puedes consultar las clases de manera directa para resolver tus dudas al momento.\n\nf) También recuerda que puedes tomar todos esos cursos antes o utilizarlos como fuente de consulta:\n\n- [Curso Básico de Python](https://platzi.com/cursos/python/)\n- [Curso de Entorno de Trabajo para Ciencia de Datos con Jupyter Notebooks y Anaconda](https://platzi.com/cursos/jupyter-notebook/)\n- [Curso de Python Intermedio: Comprehensions, Lambdas y Manejo de Errores](https://platzi.com/cursos/python-intermedio/)\n- [Curso de Principios de Visualización de Datos para Business Intelligence](https://platzi.com/cursos/visualizacion-datos/)\n- [Curso Básico de Manipulación y Transformación de Datos con Pandas y NumPy](https://platzi.com/cursos/pandas-numpy/)\n- [Curso Básico de Visualización de Datos con Matplotlib y Seaborn](https://platzi.com/cursos/matplotlib-seaborn/)\n- [Curso de Funciones Matemáticas para Data Science e Inteligencia Artificial](https://platzi.com/cursos/funciones-matematicas/)\n- [Curso de Matemáticas para Data Science: Estadística Descriptiva](https://platzi.com/cursos/estadistica-descriptiva/)\n- [Curso de Análisis Exploratorio de Datos](https://platzi.com/cursos/analisis-exploratorio-datos/)\n",
   "metadata": {
    "cell_id": "939f1a1f10f24939810725458d8322c1",
    "tags": [],
    "deepnote_cell_type": "markdown",
    "deepnote_cell_height": 462.33331298828125
   }
  },
  {
   "cell_type": "markdown",
   "source": "## Conoce los datos - Vinho Verde\n\n1. Lee esta información para tener contexto de los datos que se usarán:\n\nUtilizaremos dos datasets enfocados en la calidad de vinos. Ambos se relacionan a las variantes de vino blanco y vino rojo del vino portugués \"Vinho Verde\".\n\n<img src=/work/EDA_WINE/Large186.jpg>\n\nLa fuente de estos datasets son del Machine Learning Repository de UCI. Puedes conocer más de ellos [aquí](https://archive.ics.uci.edu/ml/datasets/wine+quality).\n\nInput variables (based on physicochemical tests):\n1. fixed acidity / acidez fija\nLa mayoría de los ácidos involucrados con el vino o fijos o no volátiles (no se evaporan fácilmente).\n\n2. volatile acidity / acidez volátil\nLa cantidad de ácido acético en el vino, que en niveles demasiado altos puede provocar un sabor desagradable a vinagre.\n\n3. citric acid / ácido cítrico\nEncontrado en pequeñas cantidades el ácido cítrico puede agregar 'frescura' y sabor a los vinos.\n\n4. residual sugar / azúcar residual\nLa cantidad de azúcar que queda después de que se detiene la fermentación. Es raro encontrar vinos con menos de 1 gramo/litro y vinos con más de 45 gramos/litro se consideran dulces.\n\n5. chlorides / cloruros\nLa cantidad de sal en el vino.\n\n6. free sulfur dioxide / dióxido de azufre libre\nLa forma libre de SO2 existe en equilibrio entre el SO2 molecular (como gas disuelto) y el ion bisulfito; previene el crecimiento microbiano y la oxidación del vino.\n\n7. total sulfur dioxide / dióxido de azufre total\nCantidad de formas libres y ligadas de S02; en bajas concentraciones, el SO2 es mayormente indetectable en el vino, pero en concentraciones de SO2 libres superiores a 50 ppm, el SO2 se vuelve evidente en la nariz y el sabor del vino.\n\n8. density / densidad\nLa densidad del agua es cercana a la del agua dependiendo del porcentaje de alcohol y azúcar contenido.\n\n9. pH / pH\nDescribe qué tan ácido o básico es un vino en una escala de 0 (muy ácido) a 14 (muy básico); la mayoría de los vinos están entre 3 y 4 en la escala de pH\n\n10. sulphates / sulfatos\nUn aditivo del vino que puede contribuir a los niveles de dióxido de azufre (S02), que actúa como antimicrobiano y antioxidante\n\n11. alcohol / alcohol\nEl porcentaje de contenido de alcohol del vino\n\nOutput variable (based on sensory data):\n\n12. quality / calidad\nVariable de salida o target (basada en datos sensoriales, puntuación entre 0 y 10). Indica qué tan bueno es el vino en este estándar de calidad.",
   "metadata": {
    "cell_id": "8a87bc0dc02e484dac23698635e08356",
    "tags": [],
    "deepnote_cell_type": "markdown",
    "deepnote_cell_height": 1453.3333740234375
   }
  },
  {
   "cell_type": "markdown",
   "source": "## Importar librerías\n\n1. Ejecuta la siguiente celda para importar librerías.\n\nEstas son las librerías de Python esenciales para ejecutar tu EDA. Mientras desarrolles el proyecto puedes agregar las que veas conveninente. \n\nPuedes usar cualquiera que conozcas del lenguaje Python.",
   "metadata": {
    "cell_id": "8f7b790f49644d71bcd94239c27a1fb7",
    "tags": [],
    "deepnote_cell_type": "markdown",
    "deepnote_cell_height": 202.93333435058594
   }
  },
  {
   "cell_type": "code",
   "metadata": {
    "tags": [],
    "cell_id": "592e1778-8d21-4cf8-b657-7976236f5474",
    "deepnote_to_be_reexecuted": false,
    "source_hash": "24b26b86",
    "execution_start": 1653345710991,
    "execution_millis": 2722,
    "deepnote_cell_type": "code",
    "deepnote_cell_height": 134.3333282470703
   },
   "source": "import pandas as pd\nimport numpy as np\nimport matplotlib.pyplot as plt\nimport seaborn as sns",
   "execution_count": 2,
   "outputs": []
  },
  {
   "cell_type": "markdown",
   "source": "### *Clases sugeridas*:\n\n- [Google Colab: primeros pasos](https://platzi.com/clases/2434-jupyter-notebook/40386-google-colab-primeros-pasos/?utm_source=contenido&utm_medium=organic&utm_campaign=ejercicio-eda)\n\n- [Google Colab: ciencia de datos](https://platzi.com/clases/2434-jupyter-notebook/40387-google-colab-ciencia-de-datos/?utm_source=contenido&utm_medium=organic&utm_campaign=ejercicio-eda)\n\n- [Utiliza Deepnote](https://platzi.com/clases/2434-jupyter-notebook/40388-utilizar-deepnote/?utm_source=contenido&utm_medium=organic&utm_campaign=ejercicio-eda)",
   "metadata": {
    "cell_id": "a7bb7dc5c46641329547c3c04ede6ed2",
    "tags": [],
    "deepnote_cell_type": "markdown",
    "deepnote_cell_height": 164.53334045410156
   }
  },
  {
   "cell_type": "markdown",
   "source": "## Carga de datos\n\n1. Carga los datasets directo de sus URL como se muestran en la siguiente celda.\n\nNota: alternativamente podríamos cargar los datos con los archivos csv, pero con las URL los podemos tener de forma más directa desde la fuente.",
   "metadata": {
    "cell_id": "c4f0cfaff6f94ab29261066b89090b32",
    "tags": [],
    "deepnote_cell_type": "markdown",
    "deepnote_cell_height": 166.53334045410156
   }
  },
  {
   "cell_type": "code",
   "metadata": {
    "cell_id": "c256a670082f47c2b646e7bbe383c772",
    "tags": [],
    "deepnote_to_be_reexecuted": false,
    "source_hash": "8b595c46",
    "execution_start": 1653345728515,
    "execution_millis": 4,
    "deepnote_cell_type": "code",
    "deepnote_cell_height": 98.33332824707031
   },
   "source": "url_wine_red = 'https://archive.ics.uci.edu/ml/machine-learning-databases/wine-quality/winequality-red.csv'\nurl_wine_white = 'https://archive.ics.uci.edu/ml/machine-learning-databases/wine-quality/winequality-white.csv'",
   "execution_count": 3,
   "outputs": []
  },
  {
   "cell_type": "markdown",
   "source": "2. Utiliza Pandas para crear tus DataFrames utilizando las dos variables que creaste para cargar los datos. \n\nToma en cuenta que el delimiter de los archivos csv es `;`",
   "metadata": {
    "cell_id": "c97f986f765546aba07a92689457585d",
    "tags": [],
    "deepnote_cell_type": "markdown",
    "deepnote_cell_height": 91.13333129882812
   }
  },
  {
   "cell_type": "code",
   "metadata": {
    "cell_id": "f9445d0b607849308733358bde7ceccc",
    "tags": [],
    "deepnote_to_be_reexecuted": false,
    "source_hash": "4dd55fc3",
    "execution_start": 1653345840676,
    "execution_millis": 1378,
    "deepnote_cell_type": "code",
    "deepnote_cell_height": 98.33332824707031
   },
   "source": "red = pd.read_csv(url_wine_red, delimiter=\";\")\nwhite = pd.read_csv(url_wine_white, delimiter=\";\")",
   "execution_count": 8,
   "outputs": []
  },
  {
   "cell_type": "markdown",
   "source": "3. Carga las primeras 5 filas de ambos DataFrames.",
   "metadata": {
    "cell_id": "b7d71d4e8a7d4ff3ac6080509e68756b",
    "tags": [],
    "deepnote_cell_type": "markdown",
    "deepnote_cell_height": 68.73333740234375
   }
  },
  {
   "cell_type": "code",
   "metadata": {
    "cell_id": "3c10be88dd064000875addb897a83065",
    "tags": [],
    "deepnote_to_be_reexecuted": false,
    "source_hash": "9191c84f",
    "execution_start": 1653345844751,
    "execution_millis": 24,
    "deepnote_cell_type": "code",
    "deepnote_cell_height": 405,
    "deepnote_output_heights": [
     186
    ]
   },
   "source": "red.head()",
   "execution_count": 9,
   "outputs": [
    {
     "output_type": "execute_result",
     "execution_count": 9,
     "data": {
      "application/vnd.deepnote.dataframe.v3+json": {
       "column_count": 12,
       "row_count": 5,
       "columns": [
        {
         "name": "fixed acidity",
         "dtype": "float64",
         "stats": {
          "unique_count": 3,
          "nan_count": 0,
          "min": "7.4",
          "max": "11.2",
          "histogram": [
           {
            "bin_start": 7.4,
            "bin_end": 7.78,
            "count": 2
           },
           {
            "bin_start": 7.78,
            "bin_end": 8.16,
            "count": 2
           },
           {
            "bin_start": 8.16,
            "bin_end": 8.54,
            "count": 0
           },
           {
            "bin_start": 8.54,
            "bin_end": 8.92,
            "count": 0
           },
           {
            "bin_start": 8.92,
            "bin_end": 9.3,
            "count": 0
           },
           {
            "bin_start": 9.3,
            "bin_end": 9.68,
            "count": 0
           },
           {
            "bin_start": 9.68,
            "bin_end": 10.059999999999999,
            "count": 0
           },
           {
            "bin_start": 10.059999999999999,
            "bin_end": 10.44,
            "count": 0
           },
           {
            "bin_start": 10.44,
            "bin_end": 10.82,
            "count": 0
           },
           {
            "bin_start": 10.82,
            "bin_end": 11.2,
            "count": 1
           }
          ]
         }
        },
        {
         "name": "volatile acidity",
         "dtype": "float64",
         "stats": {
          "unique_count": 4,
          "nan_count": 0,
          "min": "0.28",
          "max": "0.88",
          "histogram": [
           {
            "bin_start": 0.28,
            "bin_end": 0.34,
            "count": 1
           },
           {
            "bin_start": 0.34,
            "bin_end": 0.4,
            "count": 0
           },
           {
            "bin_start": 0.4,
            "bin_end": 0.46,
            "count": 0
           },
           {
            "bin_start": 0.46,
            "bin_end": 0.52,
            "count": 0
           },
           {
            "bin_start": 0.52,
            "bin_end": 0.5800000000000001,
            "count": 0
           },
           {
            "bin_start": 0.5800000000000001,
            "bin_end": 0.64,
            "count": 0
           },
           {
            "bin_start": 0.64,
            "bin_end": 0.7,
            "count": 0
           },
           {
            "bin_start": 0.7,
            "bin_end": 0.76,
            "count": 2
           },
           {
            "bin_start": 0.76,
            "bin_end": 0.8200000000000001,
            "count": 1
           },
           {
            "bin_start": 0.8200000000000001,
            "bin_end": 0.88,
            "count": 1
           }
          ]
         }
        },
        {
         "name": "citric acid",
         "dtype": "float64",
         "stats": {
          "unique_count": 3,
          "nan_count": 0,
          "min": "0.0",
          "max": "0.56",
          "histogram": [
           {
            "bin_start": 0,
            "bin_end": 0.05600000000000001,
            "count": 4
           },
           {
            "bin_start": 0.05600000000000001,
            "bin_end": 0.11200000000000002,
            "count": 0
           },
           {
            "bin_start": 0.11200000000000002,
            "bin_end": 0.16800000000000004,
            "count": 0
           },
           {
            "bin_start": 0.16800000000000004,
            "bin_end": 0.22400000000000003,
            "count": 0
           },
           {
            "bin_start": 0.22400000000000003,
            "bin_end": 0.28,
            "count": 0
           },
           {
            "bin_start": 0.28,
            "bin_end": 0.3360000000000001,
            "count": 0
           },
           {
            "bin_start": 0.3360000000000001,
            "bin_end": 0.39200000000000007,
            "count": 0
           },
           {
            "bin_start": 0.39200000000000007,
            "bin_end": 0.44800000000000006,
            "count": 0
           },
           {
            "bin_start": 0.44800000000000006,
            "bin_end": 0.5040000000000001,
            "count": 0
           },
           {
            "bin_start": 0.5040000000000001,
            "bin_end": 0.56,
            "count": 1
           }
          ]
         }
        },
        {
         "name": "residual sugar",
         "dtype": "float64",
         "stats": {
          "unique_count": 3,
          "nan_count": 0,
          "min": "1.9",
          "max": "2.6",
          "histogram": [
           {
            "bin_start": 1.9,
            "bin_end": 1.97,
            "count": 3
           },
           {
            "bin_start": 1.97,
            "bin_end": 2.04,
            "count": 0
           },
           {
            "bin_start": 2.04,
            "bin_end": 2.11,
            "count": 0
           },
           {
            "bin_start": 2.11,
            "bin_end": 2.18,
            "count": 0
           },
           {
            "bin_start": 2.18,
            "bin_end": 2.25,
            "count": 0
           },
           {
            "bin_start": 2.25,
            "bin_end": 2.3200000000000003,
            "count": 1
           },
           {
            "bin_start": 2.3200000000000003,
            "bin_end": 2.39,
            "count": 0
           },
           {
            "bin_start": 2.39,
            "bin_end": 2.46,
            "count": 0
           },
           {
            "bin_start": 2.46,
            "bin_end": 2.5300000000000002,
            "count": 0
           },
           {
            "bin_start": 2.5300000000000002,
            "bin_end": 2.6,
            "count": 1
           }
          ]
         }
        },
        {
         "name": "chlorides",
         "dtype": "float64",
         "stats": {
          "unique_count": 4,
          "nan_count": 0,
          "min": "0.075",
          "max": "0.098",
          "histogram": [
           {
            "bin_start": 0.075,
            "bin_end": 0.0773,
            "count": 3
           },
           {
            "bin_start": 0.0773,
            "bin_end": 0.0796,
            "count": 0
           },
           {
            "bin_start": 0.0796,
            "bin_end": 0.0819,
            "count": 0
           },
           {
            "bin_start": 0.0819,
            "bin_end": 0.0842,
            "count": 0
           },
           {
            "bin_start": 0.0842,
            "bin_end": 0.0865,
            "count": 0
           },
           {
            "bin_start": 0.0865,
            "bin_end": 0.0888,
            "count": 0
           },
           {
            "bin_start": 0.0888,
            "bin_end": 0.0911,
            "count": 0
           },
           {
            "bin_start": 0.0911,
            "bin_end": 0.09340000000000001,
            "count": 1
           },
           {
            "bin_start": 0.09340000000000001,
            "bin_end": 0.09570000000000001,
            "count": 0
           },
           {
            "bin_start": 0.09570000000000001,
            "bin_end": 0.098,
            "count": 1
           }
          ]
         }
        },
        {
         "name": "free sulfur dioxide",
         "dtype": "float64",
         "stats": {
          "unique_count": 4,
          "nan_count": 0,
          "min": "11.0",
          "max": "25.0",
          "histogram": [
           {
            "bin_start": 11,
            "bin_end": 12.4,
            "count": 2
           },
           {
            "bin_start": 12.4,
            "bin_end": 13.8,
            "count": 0
           },
           {
            "bin_start": 13.8,
            "bin_end": 15.2,
            "count": 1
           },
           {
            "bin_start": 15.2,
            "bin_end": 16.6,
            "count": 0
           },
           {
            "bin_start": 16.6,
            "bin_end": 18,
            "count": 1
           },
           {
            "bin_start": 18,
            "bin_end": 19.4,
            "count": 0
           },
           {
            "bin_start": 19.4,
            "bin_end": 20.799999999999997,
            "count": 0
           },
           {
            "bin_start": 20.799999999999997,
            "bin_end": 22.2,
            "count": 0
           },
           {
            "bin_start": 22.2,
            "bin_end": 23.6,
            "count": 0
           },
           {
            "bin_start": 23.6,
            "bin_end": 25,
            "count": 1
           }
          ]
         }
        },
        {
         "name": "total sulfur dioxide",
         "dtype": "float64",
         "stats": {
          "unique_count": 4,
          "nan_count": 0,
          "min": "34.0",
          "max": "67.0",
          "histogram": [
           {
            "bin_start": 34,
            "bin_end": 37.3,
            "count": 2
           },
           {
            "bin_start": 37.3,
            "bin_end": 40.6,
            "count": 0
           },
           {
            "bin_start": 40.6,
            "bin_end": 43.9,
            "count": 0
           },
           {
            "bin_start": 43.9,
            "bin_end": 47.2,
            "count": 0
           },
           {
            "bin_start": 47.2,
            "bin_end": 50.5,
            "count": 0
           },
           {
            "bin_start": 50.5,
            "bin_end": 53.8,
            "count": 0
           },
           {
            "bin_start": 53.8,
            "bin_end": 57.099999999999994,
            "count": 1
           },
           {
            "bin_start": 57.099999999999994,
            "bin_end": 60.4,
            "count": 1
           },
           {
            "bin_start": 60.4,
            "bin_end": 63.7,
            "count": 0
           },
           {
            "bin_start": 63.7,
            "bin_end": 67,
            "count": 1
           }
          ]
         }
        },
        {
         "name": "density",
         "dtype": "float64",
         "stats": {
          "unique_count": 4,
          "nan_count": 0,
          "min": "0.9968",
          "max": "0.998",
          "histogram": [
           {
            "bin_start": 0.9968,
            "bin_end": 0.99692,
            "count": 1
           },
           {
            "bin_start": 0.99692,
            "bin_end": 0.99704,
            "count": 1
           },
           {
            "bin_start": 0.99704,
            "bin_end": 0.99716,
            "count": 0
           },
           {
            "bin_start": 0.99716,
            "bin_end": 0.99728,
            "count": 0
           },
           {
            "bin_start": 0.99728,
            "bin_end": 0.9974000000000001,
            "count": 0
           },
           {
            "bin_start": 0.9974000000000001,
            "bin_end": 0.99752,
            "count": 0
           },
           {
            "bin_start": 0.99752,
            "bin_end": 0.99764,
            "count": 0
           },
           {
            "bin_start": 0.99764,
            "bin_end": 0.99776,
            "count": 0
           },
           {
            "bin_start": 0.99776,
            "bin_end": 0.99788,
            "count": 2
           },
           {
            "bin_start": 0.99788,
            "bin_end": 0.998,
            "count": 1
           }
          ]
         }
        },
        {
         "name": "pH",
         "dtype": "float64",
         "stats": {
          "unique_count": 4,
          "nan_count": 0,
          "min": "3.16",
          "max": "3.51",
          "histogram": [
           {
            "bin_start": 3.16,
            "bin_end": 3.1950000000000003,
            "count": 1
           },
           {
            "bin_start": 3.1950000000000003,
            "bin_end": 3.23,
            "count": 1
           },
           {
            "bin_start": 3.23,
            "bin_end": 3.265,
            "count": 1
           },
           {
            "bin_start": 3.265,
            "bin_end": 3.3,
            "count": 0
           },
           {
            "bin_start": 3.3,
            "bin_end": 3.335,
            "count": 0
           },
           {
            "bin_start": 3.335,
            "bin_end": 3.37,
            "count": 0
           },
           {
            "bin_start": 3.37,
            "bin_end": 3.405,
            "count": 0
           },
           {
            "bin_start": 3.405,
            "bin_end": 3.44,
            "count": 0
           },
           {
            "bin_start": 3.44,
            "bin_end": 3.4749999999999996,
            "count": 0
           },
           {
            "bin_start": 3.4749999999999996,
            "bin_end": 3.51,
            "count": 2
           }
          ]
         }
        },
        {
         "name": "sulphates",
         "dtype": "float64",
         "stats": {
          "unique_count": 4,
          "nan_count": 0,
          "min": "0.56",
          "max": "0.68",
          "histogram": [
           {
            "bin_start": 0.56,
            "bin_end": 0.5720000000000001,
            "count": 2
           },
           {
            "bin_start": 0.5720000000000001,
            "bin_end": 0.5840000000000001,
            "count": 1
           },
           {
            "bin_start": 0.5840000000000001,
            "bin_end": 0.5960000000000001,
            "count": 0
           },
           {
            "bin_start": 0.5960000000000001,
            "bin_end": 0.6080000000000001,
            "count": 0
           },
           {
            "bin_start": 0.6080000000000001,
            "bin_end": 0.6200000000000001,
            "count": 0
           },
           {
            "bin_start": 0.6200000000000001,
            "bin_end": 0.6320000000000001,
            "count": 0
           },
           {
            "bin_start": 0.6320000000000001,
            "bin_end": 0.644,
            "count": 0
           },
           {
            "bin_start": 0.644,
            "bin_end": 0.656,
            "count": 1
           },
           {
            "bin_start": 0.656,
            "bin_end": 0.668,
            "count": 0
           },
           {
            "bin_start": 0.668,
            "bin_end": 0.68,
            "count": 1
           }
          ]
         }
        },
        {
         "name": "alcohol",
         "dtype": "float64",
         "stats": {
          "unique_count": 2,
          "nan_count": 0,
          "min": "9.4",
          "max": "9.8",
          "histogram": [
           {
            "bin_start": 9.4,
            "bin_end": 9.440000000000001,
            "count": 2
           },
           {
            "bin_start": 9.440000000000001,
            "bin_end": 9.48,
            "count": 0
           },
           {
            "bin_start": 9.48,
            "bin_end": 9.52,
            "count": 0
           },
           {
            "bin_start": 9.52,
            "bin_end": 9.56,
            "count": 0
           },
           {
            "bin_start": 9.56,
            "bin_end": 9.600000000000001,
            "count": 0
           },
           {
            "bin_start": 9.600000000000001,
            "bin_end": 9.64,
            "count": 0
           },
           {
            "bin_start": 9.64,
            "bin_end": 9.68,
            "count": 0
           },
           {
            "bin_start": 9.68,
            "bin_end": 9.72,
            "count": 0
           },
           {
            "bin_start": 9.72,
            "bin_end": 9.760000000000002,
            "count": 0
           },
           {
            "bin_start": 9.760000000000002,
            "bin_end": 9.8,
            "count": 3
           }
          ]
         }
        },
        {
         "name": "quality",
         "dtype": "int64",
         "stats": {
          "unique_count": 2,
          "nan_count": 0,
          "min": "5",
          "max": "6",
          "histogram": [
           {
            "bin_start": 5,
            "bin_end": 5.1,
            "count": 4
           },
           {
            "bin_start": 5.1,
            "bin_end": 5.2,
            "count": 0
           },
           {
            "bin_start": 5.2,
            "bin_end": 5.3,
            "count": 0
           },
           {
            "bin_start": 5.3,
            "bin_end": 5.4,
            "count": 0
           },
           {
            "bin_start": 5.4,
            "bin_end": 5.5,
            "count": 0
           },
           {
            "bin_start": 5.5,
            "bin_end": 5.6,
            "count": 0
           },
           {
            "bin_start": 5.6,
            "bin_end": 5.7,
            "count": 0
           },
           {
            "bin_start": 5.7,
            "bin_end": 5.8,
            "count": 0
           },
           {
            "bin_start": 5.8,
            "bin_end": 5.9,
            "count": 0
           },
           {
            "bin_start": 5.9,
            "bin_end": 6,
            "count": 1
           }
          ]
         }
        },
        {
         "name": "_deepnote_index_column",
         "dtype": "int64"
        }
       ],
       "rows": [
        {
         "fixed acidity": 7.4,
         "volatile acidity": 0.7,
         "citric acid": 0,
         "residual sugar": 1.9,
         "chlorides": 0.076,
         "free sulfur dioxide": 11,
         "total sulfur dioxide": 34,
         "density": 0.9978,
         "pH": 3.51,
         "sulphates": 0.56,
         "alcohol": 9.4,
         "quality": 5,
         "_deepnote_index_column": 0
        },
        {
         "fixed acidity": 7.8,
         "volatile acidity": 0.88,
         "citric acid": 0,
         "residual sugar": 2.6,
         "chlorides": 0.098,
         "free sulfur dioxide": 25,
         "total sulfur dioxide": 67,
         "density": 0.9968,
         "pH": 3.2,
         "sulphates": 0.68,
         "alcohol": 9.8,
         "quality": 5,
         "_deepnote_index_column": 1
        },
        {
         "fixed acidity": 7.8,
         "volatile acidity": 0.76,
         "citric acid": 0.04,
         "residual sugar": 2.3,
         "chlorides": 0.092,
         "free sulfur dioxide": 15,
         "total sulfur dioxide": 54,
         "density": 0.997,
         "pH": 3.26,
         "sulphates": 0.65,
         "alcohol": 9.8,
         "quality": 5,
         "_deepnote_index_column": 2
        },
        {
         "fixed acidity": 11.2,
         "volatile acidity": 0.28,
         "citric acid": 0.56,
         "residual sugar": 1.9,
         "chlorides": 0.075,
         "free sulfur dioxide": 17,
         "total sulfur dioxide": 60,
         "density": 0.998,
         "pH": 3.16,
         "sulphates": 0.58,
         "alcohol": 9.8,
         "quality": 6,
         "_deepnote_index_column": 3
        },
        {
         "fixed acidity": 7.4,
         "volatile acidity": 0.7,
         "citric acid": 0,
         "residual sugar": 1.9,
         "chlorides": 0.076,
         "free sulfur dioxide": 11,
         "total sulfur dioxide": 34,
         "density": 0.9978,
         "pH": 3.51,
         "sulphates": 0.56,
         "alcohol": 9.4,
         "quality": 5,
         "_deepnote_index_column": 4
        }
       ]
      },
      "text/plain": "   fixed acidity  volatile acidity  citric acid  residual sugar  chlorides  \\\n0            7.4              0.70         0.00             1.9      0.076   \n1            7.8              0.88         0.00             2.6      0.098   \n2            7.8              0.76         0.04             2.3      0.092   \n3           11.2              0.28         0.56             1.9      0.075   \n4            7.4              0.70         0.00             1.9      0.076   \n\n   free sulfur dioxide  total sulfur dioxide  density    pH  sulphates  \\\n0                 11.0                  34.0   0.9978  3.51       0.56   \n1                 25.0                  67.0   0.9968  3.20       0.68   \n2                 15.0                  54.0   0.9970  3.26       0.65   \n3                 17.0                  60.0   0.9980  3.16       0.58   \n4                 11.0                  34.0   0.9978  3.51       0.56   \n\n   alcohol  quality  \n0      9.4        5  \n1      9.8        5  \n2      9.8        5  \n3      9.8        6  \n4      9.4        5  ",
      "text/html": "<div>\n<style scoped>\n    .dataframe tbody tr th:only-of-type {\n        vertical-align: middle;\n    }\n\n    .dataframe tbody tr th {\n        vertical-align: top;\n    }\n\n    .dataframe thead th {\n        text-align: right;\n    }\n</style>\n<table border=\"1\" class=\"dataframe\">\n  <thead>\n    <tr style=\"text-align: right;\">\n      <th></th>\n      <th>fixed acidity</th>\n      <th>volatile acidity</th>\n      <th>citric acid</th>\n      <th>residual sugar</th>\n      <th>chlorides</th>\n      <th>free sulfur dioxide</th>\n      <th>total sulfur dioxide</th>\n      <th>density</th>\n      <th>pH</th>\n      <th>sulphates</th>\n      <th>alcohol</th>\n      <th>quality</th>\n    </tr>\n  </thead>\n  <tbody>\n    <tr>\n      <th>0</th>\n      <td>7.4</td>\n      <td>0.70</td>\n      <td>0.00</td>\n      <td>1.9</td>\n      <td>0.076</td>\n      <td>11.0</td>\n      <td>34.0</td>\n      <td>0.9978</td>\n      <td>3.51</td>\n      <td>0.56</td>\n      <td>9.4</td>\n      <td>5</td>\n    </tr>\n    <tr>\n      <th>1</th>\n      <td>7.8</td>\n      <td>0.88</td>\n      <td>0.00</td>\n      <td>2.6</td>\n      <td>0.098</td>\n      <td>25.0</td>\n      <td>67.0</td>\n      <td>0.9968</td>\n      <td>3.20</td>\n      <td>0.68</td>\n      <td>9.8</td>\n      <td>5</td>\n    </tr>\n    <tr>\n      <th>2</th>\n      <td>7.8</td>\n      <td>0.76</td>\n      <td>0.04</td>\n      <td>2.3</td>\n      <td>0.092</td>\n      <td>15.0</td>\n      <td>54.0</td>\n      <td>0.9970</td>\n      <td>3.26</td>\n      <td>0.65</td>\n      <td>9.8</td>\n      <td>5</td>\n    </tr>\n    <tr>\n      <th>3</th>\n      <td>11.2</td>\n      <td>0.28</td>\n      <td>0.56</td>\n      <td>1.9</td>\n      <td>0.075</td>\n      <td>17.0</td>\n      <td>60.0</td>\n      <td>0.9980</td>\n      <td>3.16</td>\n      <td>0.58</td>\n      <td>9.8</td>\n      <td>6</td>\n    </tr>\n    <tr>\n      <th>4</th>\n      <td>7.4</td>\n      <td>0.70</td>\n      <td>0.00</td>\n      <td>1.9</td>\n      <td>0.076</td>\n      <td>11.0</td>\n      <td>34.0</td>\n      <td>0.9978</td>\n      <td>3.51</td>\n      <td>0.56</td>\n      <td>9.4</td>\n      <td>5</td>\n    </tr>\n  </tbody>\n</table>\n</div>"
     },
     "metadata": {}
    }
   ]
  },
  {
   "cell_type": "code",
   "source": "white.head()",
   "metadata": {
    "cell_id": "b12c367551a94973b4023f49efc5d51f",
    "tags": [],
    "deepnote_to_be_reexecuted": false,
    "source_hash": "13e71606",
    "execution_start": 1653345851225,
    "execution_millis": 38,
    "deepnote_cell_type": "code",
    "deepnote_cell_height": 405
   },
   "outputs": [
    {
     "output_type": "execute_result",
     "execution_count": 10,
     "data": {
      "application/vnd.deepnote.dataframe.v3+json": {
       "column_count": 12,
       "row_count": 5,
       "columns": [
        {
         "name": "fixed acidity",
         "dtype": "float64",
         "stats": {
          "unique_count": 4,
          "nan_count": 0,
          "min": "6.3",
          "max": "8.1",
          "histogram": [
           {
            "bin_start": 6.3,
            "bin_end": 6.4799999999999995,
            "count": 1
           },
           {
            "bin_start": 6.4799999999999995,
            "bin_end": 6.66,
            "count": 0
           },
           {
            "bin_start": 6.66,
            "bin_end": 6.84,
            "count": 0
           },
           {
            "bin_start": 6.84,
            "bin_end": 7.02,
            "count": 1
           },
           {
            "bin_start": 7.02,
            "bin_end": 7.199999999999999,
            "count": 0
           },
           {
            "bin_start": 7.199999999999999,
            "bin_end": 7.38,
            "count": 2
           },
           {
            "bin_start": 7.38,
            "bin_end": 7.56,
            "count": 0
           },
           {
            "bin_start": 7.56,
            "bin_end": 7.74,
            "count": 0
           },
           {
            "bin_start": 7.74,
            "bin_end": 7.92,
            "count": 0
           },
           {
            "bin_start": 7.92,
            "bin_end": 8.1,
            "count": 1
           }
          ]
         }
        },
        {
         "name": "volatile acidity",
         "dtype": "float64",
         "stats": {
          "unique_count": 4,
          "nan_count": 0,
          "min": "0.23",
          "max": "0.3",
          "histogram": [
           {
            "bin_start": 0.23,
            "bin_end": 0.23700000000000002,
            "count": 2
           },
           {
            "bin_start": 0.23700000000000002,
            "bin_end": 0.244,
            "count": 0
           },
           {
            "bin_start": 0.244,
            "bin_end": 0.251,
            "count": 0
           },
           {
            "bin_start": 0.251,
            "bin_end": 0.258,
            "count": 0
           },
           {
            "bin_start": 0.258,
            "bin_end": 0.265,
            "count": 0
           },
           {
            "bin_start": 0.265,
            "bin_end": 0.272,
            "count": 1
           },
           {
            "bin_start": 0.272,
            "bin_end": 0.27899999999999997,
            "count": 0
           },
           {
            "bin_start": 0.27899999999999997,
            "bin_end": 0.286,
            "count": 1
           },
           {
            "bin_start": 0.286,
            "bin_end": 0.293,
            "count": 0
           },
           {
            "bin_start": 0.293,
            "bin_end": 0.3,
            "count": 1
           }
          ]
         }
        },
        {
         "name": "citric acid",
         "dtype": "float64",
         "stats": {
          "unique_count": 4,
          "nan_count": 0,
          "min": "0.32",
          "max": "0.4",
          "histogram": [
           {
            "bin_start": 0.32,
            "bin_end": 0.328,
            "count": 2
           },
           {
            "bin_start": 0.328,
            "bin_end": 0.336,
            "count": 0
           },
           {
            "bin_start": 0.336,
            "bin_end": 0.34400000000000003,
            "count": 1
           },
           {
            "bin_start": 0.34400000000000003,
            "bin_end": 0.35200000000000004,
            "count": 0
           },
           {
            "bin_start": 0.35200000000000004,
            "bin_end": 0.36,
            "count": 0
           },
           {
            "bin_start": 0.36,
            "bin_end": 0.368,
            "count": 1
           },
           {
            "bin_start": 0.368,
            "bin_end": 0.376,
            "count": 0
           },
           {
            "bin_start": 0.376,
            "bin_end": 0.384,
            "count": 0
           },
           {
            "bin_start": 0.384,
            "bin_end": 0.392,
            "count": 0
           },
           {
            "bin_start": 0.392,
            "bin_end": 0.4,
            "count": 1
           }
          ]
         }
        },
        {
         "name": "residual sugar",
         "dtype": "float64",
         "stats": {
          "unique_count": 4,
          "nan_count": 0,
          "min": "1.6",
          "max": "20.7",
          "histogram": [
           {
            "bin_start": 1.6,
            "bin_end": 3.51,
            "count": 1
           },
           {
            "bin_start": 3.51,
            "bin_end": 5.42,
            "count": 0
           },
           {
            "bin_start": 5.42,
            "bin_end": 7.329999999999998,
            "count": 1
           },
           {
            "bin_start": 7.329999999999998,
            "bin_end": 9.239999999999998,
            "count": 2
           },
           {
            "bin_start": 9.239999999999998,
            "bin_end": 11.149999999999999,
            "count": 0
           },
           {
            "bin_start": 11.149999999999999,
            "bin_end": 13.059999999999997,
            "count": 0
           },
           {
            "bin_start": 13.059999999999997,
            "bin_end": 14.969999999999997,
            "count": 0
           },
           {
            "bin_start": 14.969999999999997,
            "bin_end": 16.88,
            "count": 0
           },
           {
            "bin_start": 16.88,
            "bin_end": 18.79,
            "count": 0
           },
           {
            "bin_start": 18.79,
            "bin_end": 20.7,
            "count": 1
           }
          ]
         }
        },
        {
         "name": "chlorides",
         "dtype": "float64",
         "stats": {
          "unique_count": 4,
          "nan_count": 0,
          "min": "0.045",
          "max": "0.058",
          "histogram": [
           {
            "bin_start": 0.045,
            "bin_end": 0.0463,
            "count": 1
           },
           {
            "bin_start": 0.0463,
            "bin_end": 0.047599999999999996,
            "count": 0
           },
           {
            "bin_start": 0.047599999999999996,
            "bin_end": 0.0489,
            "count": 0
           },
           {
            "bin_start": 0.0489,
            "bin_end": 0.0502,
            "count": 2
           },
           {
            "bin_start": 0.0502,
            "bin_end": 0.051500000000000004,
            "count": 0
           },
           {
            "bin_start": 0.051500000000000004,
            "bin_end": 0.0528,
            "count": 0
           },
           {
            "bin_start": 0.0528,
            "bin_end": 0.0541,
            "count": 0
           },
           {
            "bin_start": 0.0541,
            "bin_end": 0.055400000000000005,
            "count": 0
           },
           {
            "bin_start": 0.055400000000000005,
            "bin_end": 0.0567,
            "count": 0
           },
           {
            "bin_start": 0.0567,
            "bin_end": 0.058,
            "count": 2
           }
          ]
         }
        },
        {
         "name": "free sulfur dioxide",
         "dtype": "float64",
         "stats": {
          "unique_count": 4,
          "nan_count": 0,
          "min": "14.0",
          "max": "47.0",
          "histogram": [
           {
            "bin_start": 14,
            "bin_end": 17.3,
            "count": 1
           },
           {
            "bin_start": 17.3,
            "bin_end": 20.6,
            "count": 0
           },
           {
            "bin_start": 20.6,
            "bin_end": 23.9,
            "count": 0
           },
           {
            "bin_start": 23.9,
            "bin_end": 27.2,
            "count": 0
           },
           {
            "bin_start": 27.2,
            "bin_end": 30.5,
            "count": 1
           },
           {
            "bin_start": 30.5,
            "bin_end": 33.8,
            "count": 0
           },
           {
            "bin_start": 33.8,
            "bin_end": 37.099999999999994,
            "count": 0
           },
           {
            "bin_start": 37.099999999999994,
            "bin_end": 40.4,
            "count": 0
           },
           {
            "bin_start": 40.4,
            "bin_end": 43.7,
            "count": 0
           },
           {
            "bin_start": 43.7,
            "bin_end": 47,
            "count": 3
           }
          ]
         }
        },
        {
         "name": "total sulfur dioxide",
         "dtype": "float64",
         "stats": {
          "unique_count": 4,
          "nan_count": 0,
          "min": "97.0",
          "max": "186.0",
          "histogram": [
           {
            "bin_start": 97,
            "bin_end": 105.9,
            "count": 1
           },
           {
            "bin_start": 105.9,
            "bin_end": 114.8,
            "count": 0
           },
           {
            "bin_start": 114.8,
            "bin_end": 123.7,
            "count": 0
           },
           {
            "bin_start": 123.7,
            "bin_end": 132.6,
            "count": 1
           },
           {
            "bin_start": 132.6,
            "bin_end": 141.5,
            "count": 0
           },
           {
            "bin_start": 141.5,
            "bin_end": 150.4,
            "count": 0
           },
           {
            "bin_start": 150.4,
            "bin_end": 159.3,
            "count": 0
           },
           {
            "bin_start": 159.3,
            "bin_end": 168.2,
            "count": 0
           },
           {
            "bin_start": 168.2,
            "bin_end": 177.10000000000002,
            "count": 1
           },
           {
            "bin_start": 177.10000000000002,
            "bin_end": 186,
            "count": 2
           }
          ]
         }
        },
        {
         "name": "density",
         "dtype": "float64",
         "stats": {
          "unique_count": 4,
          "nan_count": 0,
          "min": "0.994",
          "max": "1.001",
          "histogram": [
           {
            "bin_start": 0.994,
            "bin_end": 0.9947,
            "count": 1
           },
           {
            "bin_start": 0.9947,
            "bin_end": 0.9954,
            "count": 1
           },
           {
            "bin_start": 0.9954,
            "bin_end": 0.9961,
            "count": 2
           },
           {
            "bin_start": 0.9961,
            "bin_end": 0.9967999999999999,
            "count": 0
           },
           {
            "bin_start": 0.9967999999999999,
            "bin_end": 0.9974999999999999,
            "count": 0
           },
           {
            "bin_start": 0.9974999999999999,
            "bin_end": 0.9982,
            "count": 0
           },
           {
            "bin_start": 0.9982,
            "bin_end": 0.9988999999999999,
            "count": 0
           },
           {
            "bin_start": 0.9988999999999999,
            "bin_end": 0.9995999999999999,
            "count": 0
           },
           {
            "bin_start": 0.9995999999999999,
            "bin_end": 1.0003,
            "count": 0
           },
           {
            "bin_start": 1.0003,
            "bin_end": 1.001,
            "count": 1
           }
          ]
         }
        },
        {
         "name": "pH",
         "dtype": "float64",
         "stats": {
          "unique_count": 4,
          "nan_count": 0,
          "min": "3.0",
          "max": "3.3",
          "histogram": [
           {
            "bin_start": 3,
            "bin_end": 3.03,
            "count": 1
           },
           {
            "bin_start": 3.03,
            "bin_end": 3.06,
            "count": 0
           },
           {
            "bin_start": 3.06,
            "bin_end": 3.09,
            "count": 0
           },
           {
            "bin_start": 3.09,
            "bin_end": 3.12,
            "count": 0
           },
           {
            "bin_start": 3.12,
            "bin_end": 3.15,
            "count": 0
           },
           {
            "bin_start": 3.15,
            "bin_end": 3.1799999999999997,
            "count": 0
           },
           {
            "bin_start": 3.1799999999999997,
            "bin_end": 3.21,
            "count": 2
           },
           {
            "bin_start": 3.21,
            "bin_end": 3.2399999999999998,
            "count": 0
           },
           {
            "bin_start": 3.2399999999999998,
            "bin_end": 3.27,
            "count": 1
           },
           {
            "bin_start": 3.27,
            "bin_end": 3.3,
            "count": 1
           }
          ]
         }
        },
        {
         "name": "sulphates",
         "dtype": "float64",
         "stats": {
          "unique_count": 4,
          "nan_count": 0,
          "min": "0.4",
          "max": "0.49",
          "histogram": [
           {
            "bin_start": 0.4,
            "bin_end": 0.40900000000000003,
            "count": 2
           },
           {
            "bin_start": 0.40900000000000003,
            "bin_end": 0.41800000000000004,
            "count": 0
           },
           {
            "bin_start": 0.41800000000000004,
            "bin_end": 0.427,
            "count": 0
           },
           {
            "bin_start": 0.427,
            "bin_end": 0.436,
            "count": 0
           },
           {
            "bin_start": 0.436,
            "bin_end": 0.445,
            "count": 1
           },
           {
            "bin_start": 0.445,
            "bin_end": 0.454,
            "count": 1
           },
           {
            "bin_start": 0.454,
            "bin_end": 0.463,
            "count": 0
           },
           {
            "bin_start": 0.463,
            "bin_end": 0.472,
            "count": 0
           },
           {
            "bin_start": 0.472,
            "bin_end": 0.481,
            "count": 0
           },
           {
            "bin_start": 0.481,
            "bin_end": 0.49,
            "count": 1
           }
          ]
         }
        },
        {
         "name": "alcohol",
         "dtype": "float64",
         "stats": {
          "unique_count": 4,
          "nan_count": 0,
          "min": "8.8",
          "max": "10.1",
          "histogram": [
           {
            "bin_start": 8.8,
            "bin_end": 8.93,
            "count": 1
           },
           {
            "bin_start": 8.93,
            "bin_end": 9.06,
            "count": 0
           },
           {
            "bin_start": 9.06,
            "bin_end": 9.190000000000001,
            "count": 0
           },
           {
            "bin_start": 9.190000000000001,
            "bin_end": 9.32,
            "count": 0
           },
           {
            "bin_start": 9.32,
            "bin_end": 9.45,
            "count": 0
           },
           {
            "bin_start": 9.45,
            "bin_end": 9.58,
            "count": 1
           },
           {
            "bin_start": 9.58,
            "bin_end": 9.71,
            "count": 0
           },
           {
            "bin_start": 9.71,
            "bin_end": 9.84,
            "count": 0
           },
           {
            "bin_start": 9.84,
            "bin_end": 9.969999999999999,
            "count": 2
           },
           {
            "bin_start": 9.969999999999999,
            "bin_end": 10.1,
            "count": 1
           }
          ]
         }
        },
        {
         "name": "quality",
         "dtype": "int64",
         "stats": {
          "unique_count": 1,
          "nan_count": 0,
          "min": "6",
          "max": "6",
          "histogram": [
           {
            "bin_start": 5.5,
            "bin_end": 5.6,
            "count": 0
           },
           {
            "bin_start": 5.6,
            "bin_end": 5.7,
            "count": 0
           },
           {
            "bin_start": 5.7,
            "bin_end": 5.8,
            "count": 0
           },
           {
            "bin_start": 5.8,
            "bin_end": 5.9,
            "count": 0
           },
           {
            "bin_start": 5.9,
            "bin_end": 6,
            "count": 0
           },
           {
            "bin_start": 6,
            "bin_end": 6.1,
            "count": 5
           },
           {
            "bin_start": 6.1,
            "bin_end": 6.2,
            "count": 0
           },
           {
            "bin_start": 6.2,
            "bin_end": 6.3,
            "count": 0
           },
           {
            "bin_start": 6.3,
            "bin_end": 6.4,
            "count": 0
           },
           {
            "bin_start": 6.4,
            "bin_end": 6.5,
            "count": 0
           }
          ]
         }
        },
        {
         "name": "_deepnote_index_column",
         "dtype": "int64"
        }
       ],
       "rows": [
        {
         "fixed acidity": 7,
         "volatile acidity": 0.27,
         "citric acid": 0.36,
         "residual sugar": 20.7,
         "chlorides": 0.045,
         "free sulfur dioxide": 45,
         "total sulfur dioxide": 170,
         "density": 1.001,
         "pH": 3,
         "sulphates": 0.45,
         "alcohol": 8.8,
         "quality": 6,
         "_deepnote_index_column": 0
        },
        {
         "fixed acidity": 6.3,
         "volatile acidity": 0.3,
         "citric acid": 0.34,
         "residual sugar": 1.6,
         "chlorides": 0.049,
         "free sulfur dioxide": 14,
         "total sulfur dioxide": 132,
         "density": 0.994,
         "pH": 3.3,
         "sulphates": 0.49,
         "alcohol": 9.5,
         "quality": 6,
         "_deepnote_index_column": 1
        },
        {
         "fixed acidity": 8.1,
         "volatile acidity": 0.28,
         "citric acid": 0.4,
         "residual sugar": 6.9,
         "chlorides": 0.05,
         "free sulfur dioxide": 30,
         "total sulfur dioxide": 97,
         "density": 0.9951,
         "pH": 3.26,
         "sulphates": 0.44,
         "alcohol": 10.1,
         "quality": 6,
         "_deepnote_index_column": 2
        },
        {
         "fixed acidity": 7.2,
         "volatile acidity": 0.23,
         "citric acid": 0.32,
         "residual sugar": 8.5,
         "chlorides": 0.058,
         "free sulfur dioxide": 47,
         "total sulfur dioxide": 186,
         "density": 0.9956,
         "pH": 3.19,
         "sulphates": 0.4,
         "alcohol": 9.9,
         "quality": 6,
         "_deepnote_index_column": 3
        },
        {
         "fixed acidity": 7.2,
         "volatile acidity": 0.23,
         "citric acid": 0.32,
         "residual sugar": 8.5,
         "chlorides": 0.058,
         "free sulfur dioxide": 47,
         "total sulfur dioxide": 186,
         "density": 0.9956,
         "pH": 3.19,
         "sulphates": 0.4,
         "alcohol": 9.9,
         "quality": 6,
         "_deepnote_index_column": 4
        }
       ]
      },
      "text/plain": "   fixed acidity  volatile acidity  citric acid  residual sugar  chlorides  \\\n0            7.0              0.27         0.36            20.7      0.045   \n1            6.3              0.30         0.34             1.6      0.049   \n2            8.1              0.28         0.40             6.9      0.050   \n3            7.2              0.23         0.32             8.5      0.058   \n4            7.2              0.23         0.32             8.5      0.058   \n\n   free sulfur dioxide  total sulfur dioxide  density    pH  sulphates  \\\n0                 45.0                 170.0   1.0010  3.00       0.45   \n1                 14.0                 132.0   0.9940  3.30       0.49   \n2                 30.0                  97.0   0.9951  3.26       0.44   \n3                 47.0                 186.0   0.9956  3.19       0.40   \n4                 47.0                 186.0   0.9956  3.19       0.40   \n\n   alcohol  quality  \n0      8.8        6  \n1      9.5        6  \n2     10.1        6  \n3      9.9        6  \n4      9.9        6  ",
      "text/html": "<div>\n<style scoped>\n    .dataframe tbody tr th:only-of-type {\n        vertical-align: middle;\n    }\n\n    .dataframe tbody tr th {\n        vertical-align: top;\n    }\n\n    .dataframe thead th {\n        text-align: right;\n    }\n</style>\n<table border=\"1\" class=\"dataframe\">\n  <thead>\n    <tr style=\"text-align: right;\">\n      <th></th>\n      <th>fixed acidity</th>\n      <th>volatile acidity</th>\n      <th>citric acid</th>\n      <th>residual sugar</th>\n      <th>chlorides</th>\n      <th>free sulfur dioxide</th>\n      <th>total sulfur dioxide</th>\n      <th>density</th>\n      <th>pH</th>\n      <th>sulphates</th>\n      <th>alcohol</th>\n      <th>quality</th>\n    </tr>\n  </thead>\n  <tbody>\n    <tr>\n      <th>0</th>\n      <td>7.0</td>\n      <td>0.27</td>\n      <td>0.36</td>\n      <td>20.7</td>\n      <td>0.045</td>\n      <td>45.0</td>\n      <td>170.0</td>\n      <td>1.0010</td>\n      <td>3.00</td>\n      <td>0.45</td>\n      <td>8.8</td>\n      <td>6</td>\n    </tr>\n    <tr>\n      <th>1</th>\n      <td>6.3</td>\n      <td>0.30</td>\n      <td>0.34</td>\n      <td>1.6</td>\n      <td>0.049</td>\n      <td>14.0</td>\n      <td>132.0</td>\n      <td>0.9940</td>\n      <td>3.30</td>\n      <td>0.49</td>\n      <td>9.5</td>\n      <td>6</td>\n    </tr>\n    <tr>\n      <th>2</th>\n      <td>8.1</td>\n      <td>0.28</td>\n      <td>0.40</td>\n      <td>6.9</td>\n      <td>0.050</td>\n      <td>30.0</td>\n      <td>97.0</td>\n      <td>0.9951</td>\n      <td>3.26</td>\n      <td>0.44</td>\n      <td>10.1</td>\n      <td>6</td>\n    </tr>\n    <tr>\n      <th>3</th>\n      <td>7.2</td>\n      <td>0.23</td>\n      <td>0.32</td>\n      <td>8.5</td>\n      <td>0.058</td>\n      <td>47.0</td>\n      <td>186.0</td>\n      <td>0.9956</td>\n      <td>3.19</td>\n      <td>0.40</td>\n      <td>9.9</td>\n      <td>6</td>\n    </tr>\n    <tr>\n      <th>4</th>\n      <td>7.2</td>\n      <td>0.23</td>\n      <td>0.32</td>\n      <td>8.5</td>\n      <td>0.058</td>\n      <td>47.0</td>\n      <td>186.0</td>\n      <td>0.9956</td>\n      <td>3.19</td>\n      <td>0.40</td>\n      <td>9.9</td>\n      <td>6</td>\n    </tr>\n  </tbody>\n</table>\n</div>"
     },
     "metadata": {}
    }
   ],
   "execution_count": 10
  },
  {
   "cell_type": "markdown",
   "source": "### *Clases sugeridas*:\n\n- [Series y DataFrames en Pandas](https://platzi.com/clases/2912-pandas-numpy/47984-series-y-dataframes-en-pandas/?utm_source=contenido&utm_medium=organic&utm_campaign=ejercicio-eda)\n- [Leer archivos CSV y JSON con Pandas](https://platzi.com/clases/2912-pandas-numpy/47985-leer-archivos-csv-y-json-con-pandas/?utm_source=contenido&utm_medium=organic&utm_campaign=ejercicio-eda)",
   "metadata": {
    "cell_id": "b5a166b124d4495aa94af1b517ad7eb8",
    "tags": [],
    "deepnote_cell_type": "markdown",
    "deepnote_cell_height": 139.8000030517578
   }
  },
  {
   "cell_type": "markdown",
   "source": "## Combina ambos DataFrames\n\n1. Incluye una variable llamada `category` a cada DataFrame que indiqué si el vino es rojo (red) o blanco (white). Esto servirá para distinguir el tipo de vino de cada fila/registro al unir los DataFrames.",
   "metadata": {
    "cell_id": "ed480474e2344e0d95172c6b75dc67c8",
    "tags": [],
    "deepnote_cell_type": "markdown",
    "deepnote_cell_height": 144.13333129882812
   }
  },
  {
   "cell_type": "code",
   "metadata": {
    "cell_id": "9b49c89f5fa242e19d2f07d7de95dbcd",
    "tags": [],
    "deepnote_to_be_reexecuted": false,
    "source_hash": "45b66c68",
    "execution_start": 1653345899182,
    "execution_millis": 3,
    "deepnote_cell_type": "code",
    "deepnote_cell_height": 98.33332824707031
   },
   "source": "red['category']='red'\nwhite['category']='white'",
   "execution_count": 11,
   "outputs": []
  },
  {
   "cell_type": "markdown",
   "source": "2. Utiliza Pandas para unir ambos registros de los dos DataFrames.",
   "metadata": {
    "cell_id": "ccdc6fa6feb5473e930b23664eb6e459",
    "tags": [],
    "deepnote_cell_type": "markdown",
    "deepnote_cell_height": 68.73333740234375
   }
  },
  {
   "cell_type": "code",
   "metadata": {
    "cell_id": "53013357230f4ad09a76c7f10c29e700",
    "tags": [],
    "deepnote_to_be_reexecuted": false,
    "source_hash": "e1f89b54",
    "execution_start": 1653345976180,
    "execution_millis": 9,
    "deepnote_cell_type": "code",
    "deepnote_cell_height": 80.33332824707031
   },
   "source": "total_wine=red.append(white, ignore_index=True)",
   "execution_count": 14,
   "outputs": []
  },
  {
   "cell_type": "markdown",
   "source": "3. Comprueba que el DataFrame este completo viendo sus primeras filas. Ve que la columna category esté con los datos correctos.",
   "metadata": {
    "cell_id": "1d99c5db77ad419fbb4872f221b56af0",
    "tags": [],
    "deepnote_cell_type": "markdown",
    "deepnote_cell_height": 91.13333129882812
   }
  },
  {
   "cell_type": "code",
   "metadata": {
    "cell_id": "a6ee46dd889546cf9a67c5eed6e79a4a",
    "tags": [],
    "deepnote_to_be_reexecuted": false,
    "source_hash": "d9397883",
    "execution_start": 1653345979236,
    "execution_millis": 24,
    "deepnote_cell_type": "code",
    "deepnote_cell_height": 405
   },
   "source": "total_wine.head()",
   "execution_count": 15,
   "outputs": [
    {
     "output_type": "execute_result",
     "execution_count": 15,
     "data": {
      "application/vnd.deepnote.dataframe.v3+json": {
       "column_count": 13,
       "row_count": 5,
       "columns": [
        {
         "name": "fixed acidity",
         "dtype": "float64",
         "stats": {
          "unique_count": 3,
          "nan_count": 0,
          "min": "7.4",
          "max": "11.2",
          "histogram": [
           {
            "bin_start": 7.4,
            "bin_end": 7.78,
            "count": 2
           },
           {
            "bin_start": 7.78,
            "bin_end": 8.16,
            "count": 2
           },
           {
            "bin_start": 8.16,
            "bin_end": 8.54,
            "count": 0
           },
           {
            "bin_start": 8.54,
            "bin_end": 8.92,
            "count": 0
           },
           {
            "bin_start": 8.92,
            "bin_end": 9.3,
            "count": 0
           },
           {
            "bin_start": 9.3,
            "bin_end": 9.68,
            "count": 0
           },
           {
            "bin_start": 9.68,
            "bin_end": 10.059999999999999,
            "count": 0
           },
           {
            "bin_start": 10.059999999999999,
            "bin_end": 10.44,
            "count": 0
           },
           {
            "bin_start": 10.44,
            "bin_end": 10.82,
            "count": 0
           },
           {
            "bin_start": 10.82,
            "bin_end": 11.2,
            "count": 1
           }
          ]
         }
        },
        {
         "name": "volatile acidity",
         "dtype": "float64",
         "stats": {
          "unique_count": 4,
          "nan_count": 0,
          "min": "0.28",
          "max": "0.88",
          "histogram": [
           {
            "bin_start": 0.28,
            "bin_end": 0.34,
            "count": 1
           },
           {
            "bin_start": 0.34,
            "bin_end": 0.4,
            "count": 0
           },
           {
            "bin_start": 0.4,
            "bin_end": 0.46,
            "count": 0
           },
           {
            "bin_start": 0.46,
            "bin_end": 0.52,
            "count": 0
           },
           {
            "bin_start": 0.52,
            "bin_end": 0.5800000000000001,
            "count": 0
           },
           {
            "bin_start": 0.5800000000000001,
            "bin_end": 0.64,
            "count": 0
           },
           {
            "bin_start": 0.64,
            "bin_end": 0.7,
            "count": 0
           },
           {
            "bin_start": 0.7,
            "bin_end": 0.76,
            "count": 2
           },
           {
            "bin_start": 0.76,
            "bin_end": 0.8200000000000001,
            "count": 1
           },
           {
            "bin_start": 0.8200000000000001,
            "bin_end": 0.88,
            "count": 1
           }
          ]
         }
        },
        {
         "name": "citric acid",
         "dtype": "float64",
         "stats": {
          "unique_count": 3,
          "nan_count": 0,
          "min": "0.0",
          "max": "0.56",
          "histogram": [
           {
            "bin_start": 0,
            "bin_end": 0.05600000000000001,
            "count": 4
           },
           {
            "bin_start": 0.05600000000000001,
            "bin_end": 0.11200000000000002,
            "count": 0
           },
           {
            "bin_start": 0.11200000000000002,
            "bin_end": 0.16800000000000004,
            "count": 0
           },
           {
            "bin_start": 0.16800000000000004,
            "bin_end": 0.22400000000000003,
            "count": 0
           },
           {
            "bin_start": 0.22400000000000003,
            "bin_end": 0.28,
            "count": 0
           },
           {
            "bin_start": 0.28,
            "bin_end": 0.3360000000000001,
            "count": 0
           },
           {
            "bin_start": 0.3360000000000001,
            "bin_end": 0.39200000000000007,
            "count": 0
           },
           {
            "bin_start": 0.39200000000000007,
            "bin_end": 0.44800000000000006,
            "count": 0
           },
           {
            "bin_start": 0.44800000000000006,
            "bin_end": 0.5040000000000001,
            "count": 0
           },
           {
            "bin_start": 0.5040000000000001,
            "bin_end": 0.56,
            "count": 1
           }
          ]
         }
        },
        {
         "name": "residual sugar",
         "dtype": "float64",
         "stats": {
          "unique_count": 3,
          "nan_count": 0,
          "min": "1.9",
          "max": "2.6",
          "histogram": [
           {
            "bin_start": 1.9,
            "bin_end": 1.97,
            "count": 3
           },
           {
            "bin_start": 1.97,
            "bin_end": 2.04,
            "count": 0
           },
           {
            "bin_start": 2.04,
            "bin_end": 2.11,
            "count": 0
           },
           {
            "bin_start": 2.11,
            "bin_end": 2.18,
            "count": 0
           },
           {
            "bin_start": 2.18,
            "bin_end": 2.25,
            "count": 0
           },
           {
            "bin_start": 2.25,
            "bin_end": 2.3200000000000003,
            "count": 1
           },
           {
            "bin_start": 2.3200000000000003,
            "bin_end": 2.39,
            "count": 0
           },
           {
            "bin_start": 2.39,
            "bin_end": 2.46,
            "count": 0
           },
           {
            "bin_start": 2.46,
            "bin_end": 2.5300000000000002,
            "count": 0
           },
           {
            "bin_start": 2.5300000000000002,
            "bin_end": 2.6,
            "count": 1
           }
          ]
         }
        },
        {
         "name": "chlorides",
         "dtype": "float64",
         "stats": {
          "unique_count": 4,
          "nan_count": 0,
          "min": "0.075",
          "max": "0.098",
          "histogram": [
           {
            "bin_start": 0.075,
            "bin_end": 0.0773,
            "count": 3
           },
           {
            "bin_start": 0.0773,
            "bin_end": 0.0796,
            "count": 0
           },
           {
            "bin_start": 0.0796,
            "bin_end": 0.0819,
            "count": 0
           },
           {
            "bin_start": 0.0819,
            "bin_end": 0.0842,
            "count": 0
           },
           {
            "bin_start": 0.0842,
            "bin_end": 0.0865,
            "count": 0
           },
           {
            "bin_start": 0.0865,
            "bin_end": 0.0888,
            "count": 0
           },
           {
            "bin_start": 0.0888,
            "bin_end": 0.0911,
            "count": 0
           },
           {
            "bin_start": 0.0911,
            "bin_end": 0.09340000000000001,
            "count": 1
           },
           {
            "bin_start": 0.09340000000000001,
            "bin_end": 0.09570000000000001,
            "count": 0
           },
           {
            "bin_start": 0.09570000000000001,
            "bin_end": 0.098,
            "count": 1
           }
          ]
         }
        },
        {
         "name": "free sulfur dioxide",
         "dtype": "float64",
         "stats": {
          "unique_count": 4,
          "nan_count": 0,
          "min": "11.0",
          "max": "25.0",
          "histogram": [
           {
            "bin_start": 11,
            "bin_end": 12.4,
            "count": 2
           },
           {
            "bin_start": 12.4,
            "bin_end": 13.8,
            "count": 0
           },
           {
            "bin_start": 13.8,
            "bin_end": 15.2,
            "count": 1
           },
           {
            "bin_start": 15.2,
            "bin_end": 16.6,
            "count": 0
           },
           {
            "bin_start": 16.6,
            "bin_end": 18,
            "count": 1
           },
           {
            "bin_start": 18,
            "bin_end": 19.4,
            "count": 0
           },
           {
            "bin_start": 19.4,
            "bin_end": 20.799999999999997,
            "count": 0
           },
           {
            "bin_start": 20.799999999999997,
            "bin_end": 22.2,
            "count": 0
           },
           {
            "bin_start": 22.2,
            "bin_end": 23.6,
            "count": 0
           },
           {
            "bin_start": 23.6,
            "bin_end": 25,
            "count": 1
           }
          ]
         }
        },
        {
         "name": "total sulfur dioxide",
         "dtype": "float64",
         "stats": {
          "unique_count": 4,
          "nan_count": 0,
          "min": "34.0",
          "max": "67.0",
          "histogram": [
           {
            "bin_start": 34,
            "bin_end": 37.3,
            "count": 2
           },
           {
            "bin_start": 37.3,
            "bin_end": 40.6,
            "count": 0
           },
           {
            "bin_start": 40.6,
            "bin_end": 43.9,
            "count": 0
           },
           {
            "bin_start": 43.9,
            "bin_end": 47.2,
            "count": 0
           },
           {
            "bin_start": 47.2,
            "bin_end": 50.5,
            "count": 0
           },
           {
            "bin_start": 50.5,
            "bin_end": 53.8,
            "count": 0
           },
           {
            "bin_start": 53.8,
            "bin_end": 57.099999999999994,
            "count": 1
           },
           {
            "bin_start": 57.099999999999994,
            "bin_end": 60.4,
            "count": 1
           },
           {
            "bin_start": 60.4,
            "bin_end": 63.7,
            "count": 0
           },
           {
            "bin_start": 63.7,
            "bin_end": 67,
            "count": 1
           }
          ]
         }
        },
        {
         "name": "density",
         "dtype": "float64",
         "stats": {
          "unique_count": 4,
          "nan_count": 0,
          "min": "0.9968",
          "max": "0.998",
          "histogram": [
           {
            "bin_start": 0.9968,
            "bin_end": 0.99692,
            "count": 1
           },
           {
            "bin_start": 0.99692,
            "bin_end": 0.99704,
            "count": 1
           },
           {
            "bin_start": 0.99704,
            "bin_end": 0.99716,
            "count": 0
           },
           {
            "bin_start": 0.99716,
            "bin_end": 0.99728,
            "count": 0
           },
           {
            "bin_start": 0.99728,
            "bin_end": 0.9974000000000001,
            "count": 0
           },
           {
            "bin_start": 0.9974000000000001,
            "bin_end": 0.99752,
            "count": 0
           },
           {
            "bin_start": 0.99752,
            "bin_end": 0.99764,
            "count": 0
           },
           {
            "bin_start": 0.99764,
            "bin_end": 0.99776,
            "count": 0
           },
           {
            "bin_start": 0.99776,
            "bin_end": 0.99788,
            "count": 2
           },
           {
            "bin_start": 0.99788,
            "bin_end": 0.998,
            "count": 1
           }
          ]
         }
        },
        {
         "name": "pH",
         "dtype": "float64",
         "stats": {
          "unique_count": 4,
          "nan_count": 0,
          "min": "3.16",
          "max": "3.51",
          "histogram": [
           {
            "bin_start": 3.16,
            "bin_end": 3.1950000000000003,
            "count": 1
           },
           {
            "bin_start": 3.1950000000000003,
            "bin_end": 3.23,
            "count": 1
           },
           {
            "bin_start": 3.23,
            "bin_end": 3.265,
            "count": 1
           },
           {
            "bin_start": 3.265,
            "bin_end": 3.3,
            "count": 0
           },
           {
            "bin_start": 3.3,
            "bin_end": 3.335,
            "count": 0
           },
           {
            "bin_start": 3.335,
            "bin_end": 3.37,
            "count": 0
           },
           {
            "bin_start": 3.37,
            "bin_end": 3.405,
            "count": 0
           },
           {
            "bin_start": 3.405,
            "bin_end": 3.44,
            "count": 0
           },
           {
            "bin_start": 3.44,
            "bin_end": 3.4749999999999996,
            "count": 0
           },
           {
            "bin_start": 3.4749999999999996,
            "bin_end": 3.51,
            "count": 2
           }
          ]
         }
        },
        {
         "name": "sulphates",
         "dtype": "float64",
         "stats": {
          "unique_count": 4,
          "nan_count": 0,
          "min": "0.56",
          "max": "0.68",
          "histogram": [
           {
            "bin_start": 0.56,
            "bin_end": 0.5720000000000001,
            "count": 2
           },
           {
            "bin_start": 0.5720000000000001,
            "bin_end": 0.5840000000000001,
            "count": 1
           },
           {
            "bin_start": 0.5840000000000001,
            "bin_end": 0.5960000000000001,
            "count": 0
           },
           {
            "bin_start": 0.5960000000000001,
            "bin_end": 0.6080000000000001,
            "count": 0
           },
           {
            "bin_start": 0.6080000000000001,
            "bin_end": 0.6200000000000001,
            "count": 0
           },
           {
            "bin_start": 0.6200000000000001,
            "bin_end": 0.6320000000000001,
            "count": 0
           },
           {
            "bin_start": 0.6320000000000001,
            "bin_end": 0.644,
            "count": 0
           },
           {
            "bin_start": 0.644,
            "bin_end": 0.656,
            "count": 1
           },
           {
            "bin_start": 0.656,
            "bin_end": 0.668,
            "count": 0
           },
           {
            "bin_start": 0.668,
            "bin_end": 0.68,
            "count": 1
           }
          ]
         }
        },
        {
         "name": "alcohol",
         "dtype": "float64",
         "stats": {
          "unique_count": 2,
          "nan_count": 0,
          "min": "9.4",
          "max": "9.8",
          "histogram": [
           {
            "bin_start": 9.4,
            "bin_end": 9.440000000000001,
            "count": 2
           },
           {
            "bin_start": 9.440000000000001,
            "bin_end": 9.48,
            "count": 0
           },
           {
            "bin_start": 9.48,
            "bin_end": 9.52,
            "count": 0
           },
           {
            "bin_start": 9.52,
            "bin_end": 9.56,
            "count": 0
           },
           {
            "bin_start": 9.56,
            "bin_end": 9.600000000000001,
            "count": 0
           },
           {
            "bin_start": 9.600000000000001,
            "bin_end": 9.64,
            "count": 0
           },
           {
            "bin_start": 9.64,
            "bin_end": 9.68,
            "count": 0
           },
           {
            "bin_start": 9.68,
            "bin_end": 9.72,
            "count": 0
           },
           {
            "bin_start": 9.72,
            "bin_end": 9.760000000000002,
            "count": 0
           },
           {
            "bin_start": 9.760000000000002,
            "bin_end": 9.8,
            "count": 3
           }
          ]
         }
        },
        {
         "name": "quality",
         "dtype": "int64",
         "stats": {
          "unique_count": 2,
          "nan_count": 0,
          "min": "5",
          "max": "6",
          "histogram": [
           {
            "bin_start": 5,
            "bin_end": 5.1,
            "count": 4
           },
           {
            "bin_start": 5.1,
            "bin_end": 5.2,
            "count": 0
           },
           {
            "bin_start": 5.2,
            "bin_end": 5.3,
            "count": 0
           },
           {
            "bin_start": 5.3,
            "bin_end": 5.4,
            "count": 0
           },
           {
            "bin_start": 5.4,
            "bin_end": 5.5,
            "count": 0
           },
           {
            "bin_start": 5.5,
            "bin_end": 5.6,
            "count": 0
           },
           {
            "bin_start": 5.6,
            "bin_end": 5.7,
            "count": 0
           },
           {
            "bin_start": 5.7,
            "bin_end": 5.8,
            "count": 0
           },
           {
            "bin_start": 5.8,
            "bin_end": 5.9,
            "count": 0
           },
           {
            "bin_start": 5.9,
            "bin_end": 6,
            "count": 1
           }
          ]
         }
        },
        {
         "name": "category",
         "dtype": "object",
         "stats": {
          "unique_count": 1,
          "nan_count": 0,
          "categories": [
           {
            "name": "red",
            "count": 5
           }
          ]
         }
        },
        {
         "name": "_deepnote_index_column",
         "dtype": "int64"
        }
       ],
       "rows": [
        {
         "fixed acidity": 7.4,
         "volatile acidity": 0.7,
         "citric acid": 0,
         "residual sugar": 1.9,
         "chlorides": 0.076,
         "free sulfur dioxide": 11,
         "total sulfur dioxide": 34,
         "density": 0.9978,
         "pH": 3.51,
         "sulphates": 0.56,
         "alcohol": 9.4,
         "quality": 5,
         "category": "red",
         "_deepnote_index_column": 0
        },
        {
         "fixed acidity": 7.8,
         "volatile acidity": 0.88,
         "citric acid": 0,
         "residual sugar": 2.6,
         "chlorides": 0.098,
         "free sulfur dioxide": 25,
         "total sulfur dioxide": 67,
         "density": 0.9968,
         "pH": 3.2,
         "sulphates": 0.68,
         "alcohol": 9.8,
         "quality": 5,
         "category": "red",
         "_deepnote_index_column": 1
        },
        {
         "fixed acidity": 7.8,
         "volatile acidity": 0.76,
         "citric acid": 0.04,
         "residual sugar": 2.3,
         "chlorides": 0.092,
         "free sulfur dioxide": 15,
         "total sulfur dioxide": 54,
         "density": 0.997,
         "pH": 3.26,
         "sulphates": 0.65,
         "alcohol": 9.8,
         "quality": 5,
         "category": "red",
         "_deepnote_index_column": 2
        },
        {
         "fixed acidity": 11.2,
         "volatile acidity": 0.28,
         "citric acid": 0.56,
         "residual sugar": 1.9,
         "chlorides": 0.075,
         "free sulfur dioxide": 17,
         "total sulfur dioxide": 60,
         "density": 0.998,
         "pH": 3.16,
         "sulphates": 0.58,
         "alcohol": 9.8,
         "quality": 6,
         "category": "red",
         "_deepnote_index_column": 3
        },
        {
         "fixed acidity": 7.4,
         "volatile acidity": 0.7,
         "citric acid": 0,
         "residual sugar": 1.9,
         "chlorides": 0.076,
         "free sulfur dioxide": 11,
         "total sulfur dioxide": 34,
         "density": 0.9978,
         "pH": 3.51,
         "sulphates": 0.56,
         "alcohol": 9.4,
         "quality": 5,
         "category": "red",
         "_deepnote_index_column": 4
        }
       ]
      },
      "text/plain": "   fixed acidity  volatile acidity  citric acid  residual sugar  chlorides  \\\n0            7.4              0.70         0.00             1.9      0.076   \n1            7.8              0.88         0.00             2.6      0.098   \n2            7.8              0.76         0.04             2.3      0.092   \n3           11.2              0.28         0.56             1.9      0.075   \n4            7.4              0.70         0.00             1.9      0.076   \n\n   free sulfur dioxide  total sulfur dioxide  density    pH  sulphates  \\\n0                 11.0                  34.0   0.9978  3.51       0.56   \n1                 25.0                  67.0   0.9968  3.20       0.68   \n2                 15.0                  54.0   0.9970  3.26       0.65   \n3                 17.0                  60.0   0.9980  3.16       0.58   \n4                 11.0                  34.0   0.9978  3.51       0.56   \n\n   alcohol  quality category  \n0      9.4        5      red  \n1      9.8        5      red  \n2      9.8        5      red  \n3      9.8        6      red  \n4      9.4        5      red  ",
      "text/html": "<div>\n<style scoped>\n    .dataframe tbody tr th:only-of-type {\n        vertical-align: middle;\n    }\n\n    .dataframe tbody tr th {\n        vertical-align: top;\n    }\n\n    .dataframe thead th {\n        text-align: right;\n    }\n</style>\n<table border=\"1\" class=\"dataframe\">\n  <thead>\n    <tr style=\"text-align: right;\">\n      <th></th>\n      <th>fixed acidity</th>\n      <th>volatile acidity</th>\n      <th>citric acid</th>\n      <th>residual sugar</th>\n      <th>chlorides</th>\n      <th>free sulfur dioxide</th>\n      <th>total sulfur dioxide</th>\n      <th>density</th>\n      <th>pH</th>\n      <th>sulphates</th>\n      <th>alcohol</th>\n      <th>quality</th>\n      <th>category</th>\n    </tr>\n  </thead>\n  <tbody>\n    <tr>\n      <th>0</th>\n      <td>7.4</td>\n      <td>0.70</td>\n      <td>0.00</td>\n      <td>1.9</td>\n      <td>0.076</td>\n      <td>11.0</td>\n      <td>34.0</td>\n      <td>0.9978</td>\n      <td>3.51</td>\n      <td>0.56</td>\n      <td>9.4</td>\n      <td>5</td>\n      <td>red</td>\n    </tr>\n    <tr>\n      <th>1</th>\n      <td>7.8</td>\n      <td>0.88</td>\n      <td>0.00</td>\n      <td>2.6</td>\n      <td>0.098</td>\n      <td>25.0</td>\n      <td>67.0</td>\n      <td>0.9968</td>\n      <td>3.20</td>\n      <td>0.68</td>\n      <td>9.8</td>\n      <td>5</td>\n      <td>red</td>\n    </tr>\n    <tr>\n      <th>2</th>\n      <td>7.8</td>\n      <td>0.76</td>\n      <td>0.04</td>\n      <td>2.3</td>\n      <td>0.092</td>\n      <td>15.0</td>\n      <td>54.0</td>\n      <td>0.9970</td>\n      <td>3.26</td>\n      <td>0.65</td>\n      <td>9.8</td>\n      <td>5</td>\n      <td>red</td>\n    </tr>\n    <tr>\n      <th>3</th>\n      <td>11.2</td>\n      <td>0.28</td>\n      <td>0.56</td>\n      <td>1.9</td>\n      <td>0.075</td>\n      <td>17.0</td>\n      <td>60.0</td>\n      <td>0.9980</td>\n      <td>3.16</td>\n      <td>0.58</td>\n      <td>9.8</td>\n      <td>6</td>\n      <td>red</td>\n    </tr>\n    <tr>\n      <th>4</th>\n      <td>7.4</td>\n      <td>0.70</td>\n      <td>0.00</td>\n      <td>1.9</td>\n      <td>0.076</td>\n      <td>11.0</td>\n      <td>34.0</td>\n      <td>0.9978</td>\n      <td>3.51</td>\n      <td>0.56</td>\n      <td>9.4</td>\n      <td>5</td>\n      <td>red</td>\n    </tr>\n  </tbody>\n</table>\n</div>"
     },
     "metadata": {}
    }
   ]
  },
  {
   "cell_type": "markdown",
   "source": "### *Clases sugeridas*:\n\n- [Agregar o eliminar datos con Pandas](https://platzi.com/clases/2912-pandas-numpy/47987-agregar-o-eliminar-datos-con-pandas/?utm_source=contenido&utm_medium=organic&utm_campaign=ejercicio-eda)",
   "metadata": {
    "cell_id": "79d9e9cdaacc4adc92adfe47f5762916",
    "tags": [],
    "deepnote_cell_type": "markdown",
    "deepnote_cell_height": 114.06666564941406
   }
  },
  {
   "cell_type": "markdown",
   "source": "## Exploración inicial de los datos y validación\n\n1. Consigue la cantidad de filas y columnas del DataFrame.",
   "metadata": {
    "cell_id": "2a56ed49ffee483e83a5308b51358fd7",
    "tags": [],
    "deepnote_cell_type": "markdown",
    "deepnote_cell_height": 121.73333740234375
   }
  },
  {
   "cell_type": "code",
   "metadata": {
    "cell_id": "fd39d7d00be04069bcc21278833739f5",
    "tags": [],
    "deepnote_to_be_reexecuted": false,
    "source_hash": "d8fa1718",
    "execution_start": 1653346053871,
    "execution_millis": 8,
    "deepnote_cell_type": "code",
    "deepnote_cell_height": 117,
    "deepnote_output_heights": [
     21
    ]
   },
   "source": "total_wine.shape",
   "execution_count": 16,
   "outputs": [
    {
     "output_type": "execute_result",
     "execution_count": 16,
     "data": {
      "text/plain": "(6497, 13)"
     },
     "metadata": {}
    }
   ]
  },
  {
   "cell_type": "markdown",
   "source": "2. Conoce los tipos de datos de cada característica/variable y si tienen valores nulos.",
   "metadata": {
    "cell_id": "e51d856ceed541f0a29750ab4552a3a2",
    "tags": [],
    "deepnote_cell_type": "markdown",
    "deepnote_cell_height": 68.73333740234375
   }
  },
  {
   "cell_type": "code",
   "metadata": {
    "cell_id": "fc12edc856944ab1b8f30b1618e03f7a",
    "tags": [],
    "deepnote_to_be_reexecuted": false,
    "source_hash": "69741c1e",
    "execution_start": 1653346074679,
    "execution_millis": 536,
    "deepnote_cell_type": "code",
    "deepnote_cell_height": 488.33331298828125
   },
   "source": "total_wine.info()",
   "execution_count": 17,
   "outputs": [
    {
     "name": "stdout",
     "text": "<class 'pandas.core.frame.DataFrame'>\nRangeIndex: 6497 entries, 0 to 6496\nData columns (total 13 columns):\n #   Column                Non-Null Count  Dtype  \n---  ------                --------------  -----  \n 0   fixed acidity         6497 non-null   float64\n 1   volatile acidity      6497 non-null   float64\n 2   citric acid           6497 non-null   float64\n 3   residual sugar        6497 non-null   float64\n 4   chlorides             6497 non-null   float64\n 5   free sulfur dioxide   6497 non-null   float64\n 6   total sulfur dioxide  6497 non-null   float64\n 7   density               6497 non-null   float64\n 8   pH                    6497 non-null   float64\n 9   sulphates             6497 non-null   float64\n 10  alcohol               6497 non-null   float64\n 11  quality               6497 non-null   int64  \n 12  category              6497 non-null   object \ndtypes: float64(11), int64(1), object(1)\nmemory usage: 660.0+ KB\n",
     "output_type": "stream"
    }
   ]
  },
  {
   "cell_type": "markdown",
   "source": "3. Cálcula las estadísticas descriptivas del dataset. Observa a detalle las estadísticas e identifica si existen diferencias altas entre cada percentil y en los percentilees extremos con valores máximos y mínimos de cada característica/variable.",
   "metadata": {
    "cell_id": "de1604ee55d2490d98427e335886f161",
    "tags": [],
    "deepnote_cell_type": "markdown",
    "deepnote_cell_height": 91.13333129882812
   }
  },
  {
   "cell_type": "code",
   "metadata": {
    "cell_id": "583b8db0a2ed4a14a95154143bc43559",
    "tags": [],
    "deepnote_to_be_reexecuted": false,
    "source_hash": "74ab6eec",
    "execution_start": 1653346149837,
    "execution_millis": 99,
    "deepnote_cell_type": "code",
    "deepnote_cell_height": 528
   },
   "source": "total_wine.describe()",
   "execution_count": 18,
   "outputs": [
    {
     "output_type": "execute_result",
     "execution_count": 18,
     "data": {
      "application/vnd.deepnote.dataframe.v3+json": {
       "column_count": 12,
       "row_count": 8,
       "columns": [
        {
         "name": "fixed acidity",
         "dtype": "float64",
         "stats": {
          "unique_count": 8,
          "nan_count": 0,
          "min": "1.2964337577998153",
          "max": "6497.0",
          "histogram": [
           {
            "bin_start": 1.2964337577998153,
            "bin_end": 650.8667903820199,
            "count": 7
           },
           {
            "bin_start": 650.8667903820199,
            "bin_end": 1300.43714700624,
            "count": 0
           },
           {
            "bin_start": 1300.43714700624,
            "bin_end": 1950.00750363046,
            "count": 0
           },
           {
            "bin_start": 1950.00750363046,
            "bin_end": 2599.5778602546798,
            "count": 0
           },
           {
            "bin_start": 2599.5778602546798,
            "bin_end": 3249.1482168789,
            "count": 0
           },
           {
            "bin_start": 3249.1482168789,
            "bin_end": 3898.71857350312,
            "count": 0
           },
           {
            "bin_start": 3898.71857350312,
            "bin_end": 4548.28893012734,
            "count": 0
           },
           {
            "bin_start": 4548.28893012734,
            "bin_end": 5197.85928675156,
            "count": 0
           },
           {
            "bin_start": 5197.85928675156,
            "bin_end": 5847.42964337578,
            "count": 0
           },
           {
            "bin_start": 5847.42964337578,
            "bin_end": 6497,
            "count": 1
           }
          ]
         }
        },
        {
         "name": "volatile acidity",
         "dtype": "float64",
         "stats": {
          "unique_count": 8,
          "nan_count": 0,
          "min": "0.08",
          "max": "6497.0",
          "histogram": [
           {
            "bin_start": 0.08,
            "bin_end": 649.772,
            "count": 7
           },
           {
            "bin_start": 649.772,
            "bin_end": 1299.464,
            "count": 0
           },
           {
            "bin_start": 1299.464,
            "bin_end": 1949.156,
            "count": 0
           },
           {
            "bin_start": 1949.156,
            "bin_end": 2598.848,
            "count": 0
           },
           {
            "bin_start": 2598.848,
            "bin_end": 3248.54,
            "count": 0
           },
           {
            "bin_start": 3248.54,
            "bin_end": 3898.232,
            "count": 0
           },
           {
            "bin_start": 3898.232,
            "bin_end": 4547.924,
            "count": 0
           },
           {
            "bin_start": 4547.924,
            "bin_end": 5197.616,
            "count": 0
           },
           {
            "bin_start": 5197.616,
            "bin_end": 5847.308,
            "count": 0
           },
           {
            "bin_start": 5847.308,
            "bin_end": 6497,
            "count": 1
           }
          ]
         }
        },
        {
         "name": "citric acid",
         "dtype": "float64",
         "stats": {
          "unique_count": 8,
          "nan_count": 0,
          "min": "0.0",
          "max": "6497.0",
          "histogram": [
           {
            "bin_start": 0,
            "bin_end": 649.7,
            "count": 7
           },
           {
            "bin_start": 649.7,
            "bin_end": 1299.4,
            "count": 0
           },
           {
            "bin_start": 1299.4,
            "bin_end": 1949.1000000000001,
            "count": 0
           },
           {
            "bin_start": 1949.1000000000001,
            "bin_end": 2598.8,
            "count": 0
           },
           {
            "bin_start": 2598.8,
            "bin_end": 3248.5,
            "count": 0
           },
           {
            "bin_start": 3248.5,
            "bin_end": 3898.2000000000003,
            "count": 0
           },
           {
            "bin_start": 3898.2000000000003,
            "bin_end": 4547.900000000001,
            "count": 0
           },
           {
            "bin_start": 4547.900000000001,
            "bin_end": 5197.6,
            "count": 0
           },
           {
            "bin_start": 5197.6,
            "bin_end": 5847.3,
            "count": 0
           },
           {
            "bin_start": 5847.3,
            "bin_end": 6497,
            "count": 1
           }
          ]
         }
        },
        {
         "name": "residual sugar",
         "dtype": "float64",
         "stats": {
          "unique_count": 8,
          "nan_count": 0,
          "min": "0.6",
          "max": "6497.0",
          "histogram": [
           {
            "bin_start": 0.6,
            "bin_end": 650.24,
            "count": 7
           },
           {
            "bin_start": 650.24,
            "bin_end": 1299.8799999999999,
            "count": 0
           },
           {
            "bin_start": 1299.8799999999999,
            "bin_end": 1949.52,
            "count": 0
           },
           {
            "bin_start": 1949.52,
            "bin_end": 2599.16,
            "count": 0
           },
           {
            "bin_start": 2599.16,
            "bin_end": 3248.7999999999997,
            "count": 0
           },
           {
            "bin_start": 3248.7999999999997,
            "bin_end": 3898.44,
            "count": 0
           },
           {
            "bin_start": 3898.44,
            "bin_end": 4548.08,
            "count": 0
           },
           {
            "bin_start": 4548.08,
            "bin_end": 5197.72,
            "count": 0
           },
           {
            "bin_start": 5197.72,
            "bin_end": 5847.360000000001,
            "count": 0
           },
           {
            "bin_start": 5847.360000000001,
            "bin_end": 6497,
            "count": 1
           }
          ]
         }
        },
        {
         "name": "chlorides",
         "dtype": "float64",
         "stats": {
          "unique_count": 8,
          "nan_count": 0,
          "min": "0.009",
          "max": "6497.0",
          "histogram": [
           {
            "bin_start": 0.009,
            "bin_end": 649.7081000000001,
            "count": 7
           },
           {
            "bin_start": 649.7081000000001,
            "bin_end": 1299.4072,
            "count": 0
           },
           {
            "bin_start": 1299.4072,
            "bin_end": 1949.1063000000001,
            "count": 0
           },
           {
            "bin_start": 1949.1063000000001,
            "bin_end": 2598.8054,
            "count": 0
           },
           {
            "bin_start": 2598.8054,
            "bin_end": 3248.5045,
            "count": 0
           },
           {
            "bin_start": 3248.5045,
            "bin_end": 3898.2036000000003,
            "count": 0
           },
           {
            "bin_start": 3898.2036000000003,
            "bin_end": 4547.902700000001,
            "count": 0
           },
           {
            "bin_start": 4547.902700000001,
            "bin_end": 5197.6018,
            "count": 0
           },
           {
            "bin_start": 5197.6018,
            "bin_end": 5847.3009,
            "count": 0
           },
           {
            "bin_start": 5847.3009,
            "bin_end": 6497,
            "count": 1
           }
          ]
         }
        },
        {
         "name": "free sulfur dioxide",
         "dtype": "float64",
         "stats": {
          "unique_count": 8,
          "nan_count": 0,
          "min": "1.0",
          "max": "6497.0",
          "histogram": [
           {
            "bin_start": 1,
            "bin_end": 650.6,
            "count": 7
           },
           {
            "bin_start": 650.6,
            "bin_end": 1300.2,
            "count": 0
           },
           {
            "bin_start": 1300.2,
            "bin_end": 1949.8000000000002,
            "count": 0
           },
           {
            "bin_start": 1949.8000000000002,
            "bin_end": 2599.4,
            "count": 0
           },
           {
            "bin_start": 2599.4,
            "bin_end": 3249,
            "count": 0
           },
           {
            "bin_start": 3249,
            "bin_end": 3898.6000000000004,
            "count": 0
           },
           {
            "bin_start": 3898.6000000000004,
            "bin_end": 4548.2,
            "count": 0
           },
           {
            "bin_start": 4548.2,
            "bin_end": 5197.8,
            "count": 0
           },
           {
            "bin_start": 5197.8,
            "bin_end": 5847.400000000001,
            "count": 0
           },
           {
            "bin_start": 5847.400000000001,
            "bin_end": 6497,
            "count": 1
           }
          ]
         }
        },
        {
         "name": "total sulfur dioxide",
         "dtype": "float64",
         "stats": {
          "unique_count": 8,
          "nan_count": 0,
          "min": "6.0",
          "max": "6497.0",
          "histogram": [
           {
            "bin_start": 6,
            "bin_end": 655.1,
            "count": 7
           },
           {
            "bin_start": 655.1,
            "bin_end": 1304.2,
            "count": 0
           },
           {
            "bin_start": 1304.2,
            "bin_end": 1953.3000000000002,
            "count": 0
           },
           {
            "bin_start": 1953.3000000000002,
            "bin_end": 2602.4,
            "count": 0
           },
           {
            "bin_start": 2602.4,
            "bin_end": 3251.5,
            "count": 0
           },
           {
            "bin_start": 3251.5,
            "bin_end": 3900.6000000000004,
            "count": 0
           },
           {
            "bin_start": 3900.6000000000004,
            "bin_end": 4549.7,
            "count": 0
           },
           {
            "bin_start": 4549.7,
            "bin_end": 5198.8,
            "count": 0
           },
           {
            "bin_start": 5198.8,
            "bin_end": 5847.900000000001,
            "count": 0
           },
           {
            "bin_start": 5847.900000000001,
            "bin_end": 6497,
            "count": 1
           }
          ]
         }
        },
        {
         "name": "density",
         "dtype": "float64",
         "stats": {
          "unique_count": 8,
          "nan_count": 0,
          "min": "0.0029986730037190393",
          "max": "6497.0",
          "histogram": [
           {
            "bin_start": 0.0029986730037190393,
            "bin_end": 649.7026988057034,
            "count": 7
           },
           {
            "bin_start": 649.7026988057034,
            "bin_end": 1299.4023989384032,
            "count": 0
           },
           {
            "bin_start": 1299.4023989384032,
            "bin_end": 1949.1020990711029,
            "count": 0
           },
           {
            "bin_start": 1949.1020990711029,
            "bin_end": 2598.8017992038026,
            "count": 0
           },
           {
            "bin_start": 2598.8017992038026,
            "bin_end": 3248.5014993365025,
            "count": 0
           },
           {
            "bin_start": 3248.5014993365025,
            "bin_end": 3898.201199469202,
            "count": 0
           },
           {
            "bin_start": 3898.201199469202,
            "bin_end": 4547.900899601901,
            "count": 0
           },
           {
            "bin_start": 4547.900899601901,
            "bin_end": 5197.600599734601,
            "count": 0
           },
           {
            "bin_start": 5197.600599734601,
            "bin_end": 5847.300299867301,
            "count": 0
           },
           {
            "bin_start": 5847.300299867301,
            "bin_end": 6497,
            "count": 1
           }
          ]
         }
        },
        {
         "name": "pH",
         "dtype": "float64",
         "stats": {
          "unique_count": 8,
          "nan_count": 0,
          "min": "0.16078720210398764",
          "max": "6497.0",
          "histogram": [
           {
            "bin_start": 0.16078720210398764,
            "bin_end": 649.8447084818936,
            "count": 7
           },
           {
            "bin_start": 649.8447084818936,
            "bin_end": 1299.5286297616833,
            "count": 0
           },
           {
            "bin_start": 1299.5286297616833,
            "bin_end": 1949.212551041473,
            "count": 0
           },
           {
            "bin_start": 1949.212551041473,
            "bin_end": 2598.8964723212625,
            "count": 0
           },
           {
            "bin_start": 2598.8964723212625,
            "bin_end": 3248.580393601052,
            "count": 0
           },
           {
            "bin_start": 3248.580393601052,
            "bin_end": 3898.264314880842,
            "count": 0
           },
           {
            "bin_start": 3898.264314880842,
            "bin_end": 4547.9482361606315,
            "count": 0
           },
           {
            "bin_start": 4547.9482361606315,
            "bin_end": 5197.632157440421,
            "count": 0
           },
           {
            "bin_start": 5197.632157440421,
            "bin_end": 5847.3160787202105,
            "count": 0
           },
           {
            "bin_start": 5847.3160787202105,
            "bin_end": 6497,
            "count": 1
           }
          ]
         }
        },
        {
         "name": "sulphates",
         "dtype": "float64",
         "stats": {
          "unique_count": 8,
          "nan_count": 0,
          "min": "0.14880587361449027",
          "max": "6497.0",
          "histogram": [
           {
            "bin_start": 0.14880587361449027,
            "bin_end": 649.8339252862531,
            "count": 7
           },
           {
            "bin_start": 649.8339252862531,
            "bin_end": 1299.5190446988918,
            "count": 0
           },
           {
            "bin_start": 1299.5190446988918,
            "bin_end": 1949.2041641115304,
            "count": 0
           },
           {
            "bin_start": 1949.2041641115304,
            "bin_end": 2598.889283524169,
            "count": 0
           },
           {
            "bin_start": 2598.889283524169,
            "bin_end": 3248.5744029368075,
            "count": 0
           },
           {
            "bin_start": 3248.5744029368075,
            "bin_end": 3898.2595223494463,
            "count": 0
           },
           {
            "bin_start": 3898.2595223494463,
            "bin_end": 4547.944641762085,
            "count": 0
           },
           {
            "bin_start": 4547.944641762085,
            "bin_end": 5197.629761174723,
            "count": 0
           },
           {
            "bin_start": 5197.629761174723,
            "bin_end": 5847.314880587362,
            "count": 0
           },
           {
            "bin_start": 5847.314880587362,
            "bin_end": 6497,
            "count": 1
           }
          ]
         }
        },
        {
         "name": "alcohol",
         "dtype": "float64",
         "stats": {
          "unique_count": 8,
          "nan_count": 0,
          "min": "1.192711748870993",
          "max": "6497.0",
          "histogram": [
           {
            "bin_start": 1.192711748870993,
            "bin_end": 650.7734405739839,
            "count": 7
           },
           {
            "bin_start": 650.7734405739839,
            "bin_end": 1300.3541693990967,
            "count": 0
           },
           {
            "bin_start": 1300.3541693990967,
            "bin_end": 1949.9348982242095,
            "count": 0
           },
           {
            "bin_start": 1949.9348982242095,
            "bin_end": 2599.515627049322,
            "count": 0
           },
           {
            "bin_start": 2599.515627049322,
            "bin_end": 3249.0963558744347,
            "count": 0
           },
           {
            "bin_start": 3249.0963558744347,
            "bin_end": 3898.677084699548,
            "count": 0
           },
           {
            "bin_start": 3898.677084699548,
            "bin_end": 4548.257813524661,
            "count": 0
           },
           {
            "bin_start": 4548.257813524661,
            "bin_end": 5197.838542349774,
            "count": 0
           },
           {
            "bin_start": 5197.838542349774,
            "bin_end": 5847.4192711748865,
            "count": 0
           },
           {
            "bin_start": 5847.4192711748865,
            "bin_end": 6497,
            "count": 1
           }
          ]
         }
        },
        {
         "name": "quality",
         "dtype": "float64",
         "stats": {
          "unique_count": 7,
          "nan_count": 0,
          "min": "0.8732552715311248",
          "max": "6497.0",
          "histogram": [
           {
            "bin_start": 0.8732552715311248,
            "bin_end": 650.485929744378,
            "count": 7
           },
           {
            "bin_start": 650.485929744378,
            "bin_end": 1300.098604217225,
            "count": 0
           },
           {
            "bin_start": 1300.098604217225,
            "bin_end": 1949.711278690072,
            "count": 0
           },
           {
            "bin_start": 1949.711278690072,
            "bin_end": 2599.3239531629188,
            "count": 0
           },
           {
            "bin_start": 2599.3239531629188,
            "bin_end": 3248.936627635766,
            "count": 0
           },
           {
            "bin_start": 3248.936627635766,
            "bin_end": 3898.5493021086127,
            "count": 0
           },
           {
            "bin_start": 3898.5493021086127,
            "bin_end": 4548.161976581459,
            "count": 0
           },
           {
            "bin_start": 4548.161976581459,
            "bin_end": 5197.774651054307,
            "count": 0
           },
           {
            "bin_start": 5197.774651054307,
            "bin_end": 5847.387325527154,
            "count": 0
           },
           {
            "bin_start": 5847.387325527154,
            "bin_end": 6497,
            "count": 1
           }
          ]
         }
        },
        {
         "name": "_deepnote_index_column",
         "dtype": "object"
        }
       ],
       "rows": [
        {
         "fixed acidity": 6497,
         "volatile acidity": 6497,
         "citric acid": 6497,
         "residual sugar": 6497,
         "chlorides": 6497,
         "free sulfur dioxide": 6497,
         "total sulfur dioxide": 6497,
         "density": 6497,
         "pH": 6497,
         "sulphates": 6497,
         "alcohol": 6497,
         "quality": 6497,
         "_deepnote_index_column": "count"
        },
        {
         "fixed acidity": 7.215307064799139,
         "volatile acidity": 0.3396659996921656,
         "citric acid": 0.3186332153301524,
         "residual sugar": 5.443235339387409,
         "chlorides": 0.05603386178236109,
         "free sulfur dioxide": 30.525319378174544,
         "total sulfur dioxide": 115.7445744189626,
         "density": 0.9946966338309989,
         "pH": 3.2185008465445586,
         "sulphates": 0.5312682776666154,
         "alcohol": 10.491800831152839,
         "quality": 5.818377712790519,
         "_deepnote_index_column": "mean"
        },
        {
         "fixed acidity": 1.2964337577998153,
         "volatile acidity": 0.16463647408467877,
         "citric acid": 0.14531786489759155,
         "residual sugar": 4.757803743147418,
         "chlorides": 0.03503360137245907,
         "free sulfur dioxide": 17.7493997720025,
         "total sulfur dioxide": 56.521854522630285,
         "density": 0.0029986730037190393,
         "pH": 0.16078720210398764,
         "sulphates": 0.14880587361449027,
         "alcohol": 1.192711748870993,
         "quality": 0.8732552715311248,
         "_deepnote_index_column": "std"
        },
        {
         "fixed acidity": 3.8,
         "volatile acidity": 0.08,
         "citric acid": 0,
         "residual sugar": 0.6,
         "chlorides": 0.009,
         "free sulfur dioxide": 1,
         "total sulfur dioxide": 6,
         "density": 0.98711,
         "pH": 2.72,
         "sulphates": 0.22,
         "alcohol": 8,
         "quality": 3,
         "_deepnote_index_column": "min"
        },
        {
         "fixed acidity": 6.4,
         "volatile acidity": 0.23,
         "citric acid": 0.25,
         "residual sugar": 1.8,
         "chlorides": 0.038,
         "free sulfur dioxide": 17,
         "total sulfur dioxide": 77,
         "density": 0.99234,
         "pH": 3.11,
         "sulphates": 0.43,
         "alcohol": 9.5,
         "quality": 5,
         "_deepnote_index_column": "25%"
        },
        {
         "fixed acidity": 7,
         "volatile acidity": 0.29,
         "citric acid": 0.31,
         "residual sugar": 3,
         "chlorides": 0.047,
         "free sulfur dioxide": 29,
         "total sulfur dioxide": 118,
         "density": 0.99489,
         "pH": 3.21,
         "sulphates": 0.51,
         "alcohol": 10.3,
         "quality": 6,
         "_deepnote_index_column": "50%"
        },
        {
         "fixed acidity": 7.7,
         "volatile acidity": 0.4,
         "citric acid": 0.39,
         "residual sugar": 8.1,
         "chlorides": 0.065,
         "free sulfur dioxide": 41,
         "total sulfur dioxide": 156,
         "density": 0.99699,
         "pH": 3.32,
         "sulphates": 0.6,
         "alcohol": 11.3,
         "quality": 6,
         "_deepnote_index_column": "75%"
        },
        {
         "fixed acidity": 15.9,
         "volatile acidity": 1.58,
         "citric acid": 1.66,
         "residual sugar": 65.8,
         "chlorides": 0.611,
         "free sulfur dioxide": 289,
         "total sulfur dioxide": 440,
         "density": 1.03898,
         "pH": 4.01,
         "sulphates": 2,
         "alcohol": 14.9,
         "quality": 9,
         "_deepnote_index_column": "max"
        }
       ]
      },
      "text/plain": "       fixed acidity  volatile acidity  citric acid  residual sugar  \\\ncount    6497.000000       6497.000000  6497.000000     6497.000000   \nmean        7.215307          0.339666     0.318633        5.443235   \nstd         1.296434          0.164636     0.145318        4.757804   \nmin         3.800000          0.080000     0.000000        0.600000   \n25%         6.400000          0.230000     0.250000        1.800000   \n50%         7.000000          0.290000     0.310000        3.000000   \n75%         7.700000          0.400000     0.390000        8.100000   \nmax        15.900000          1.580000     1.660000       65.800000   \n\n         chlorides  free sulfur dioxide  total sulfur dioxide      density  \\\ncount  6497.000000          6497.000000           6497.000000  6497.000000   \nmean      0.056034            30.525319            115.744574     0.994697   \nstd       0.035034            17.749400             56.521855     0.002999   \nmin       0.009000             1.000000              6.000000     0.987110   \n25%       0.038000            17.000000             77.000000     0.992340   \n50%       0.047000            29.000000            118.000000     0.994890   \n75%       0.065000            41.000000            156.000000     0.996990   \nmax       0.611000           289.000000            440.000000     1.038980   \n\n                pH    sulphates      alcohol      quality  \ncount  6497.000000  6497.000000  6497.000000  6497.000000  \nmean      3.218501     0.531268    10.491801     5.818378  \nstd       0.160787     0.148806     1.192712     0.873255  \nmin       2.720000     0.220000     8.000000     3.000000  \n25%       3.110000     0.430000     9.500000     5.000000  \n50%       3.210000     0.510000    10.300000     6.000000  \n75%       3.320000     0.600000    11.300000     6.000000  \nmax       4.010000     2.000000    14.900000     9.000000  ",
      "text/html": "<div>\n<style scoped>\n    .dataframe tbody tr th:only-of-type {\n        vertical-align: middle;\n    }\n\n    .dataframe tbody tr th {\n        vertical-align: top;\n    }\n\n    .dataframe thead th {\n        text-align: right;\n    }\n</style>\n<table border=\"1\" class=\"dataframe\">\n  <thead>\n    <tr style=\"text-align: right;\">\n      <th></th>\n      <th>fixed acidity</th>\n      <th>volatile acidity</th>\n      <th>citric acid</th>\n      <th>residual sugar</th>\n      <th>chlorides</th>\n      <th>free sulfur dioxide</th>\n      <th>total sulfur dioxide</th>\n      <th>density</th>\n      <th>pH</th>\n      <th>sulphates</th>\n      <th>alcohol</th>\n      <th>quality</th>\n    </tr>\n  </thead>\n  <tbody>\n    <tr>\n      <th>count</th>\n      <td>6497.000000</td>\n      <td>6497.000000</td>\n      <td>6497.000000</td>\n      <td>6497.000000</td>\n      <td>6497.000000</td>\n      <td>6497.000000</td>\n      <td>6497.000000</td>\n      <td>6497.000000</td>\n      <td>6497.000000</td>\n      <td>6497.000000</td>\n      <td>6497.000000</td>\n      <td>6497.000000</td>\n    </tr>\n    <tr>\n      <th>mean</th>\n      <td>7.215307</td>\n      <td>0.339666</td>\n      <td>0.318633</td>\n      <td>5.443235</td>\n      <td>0.056034</td>\n      <td>30.525319</td>\n      <td>115.744574</td>\n      <td>0.994697</td>\n      <td>3.218501</td>\n      <td>0.531268</td>\n      <td>10.491801</td>\n      <td>5.818378</td>\n    </tr>\n    <tr>\n      <th>std</th>\n      <td>1.296434</td>\n      <td>0.164636</td>\n      <td>0.145318</td>\n      <td>4.757804</td>\n      <td>0.035034</td>\n      <td>17.749400</td>\n      <td>56.521855</td>\n      <td>0.002999</td>\n      <td>0.160787</td>\n      <td>0.148806</td>\n      <td>1.192712</td>\n      <td>0.873255</td>\n    </tr>\n    <tr>\n      <th>min</th>\n      <td>3.800000</td>\n      <td>0.080000</td>\n      <td>0.000000</td>\n      <td>0.600000</td>\n      <td>0.009000</td>\n      <td>1.000000</td>\n      <td>6.000000</td>\n      <td>0.987110</td>\n      <td>2.720000</td>\n      <td>0.220000</td>\n      <td>8.000000</td>\n      <td>3.000000</td>\n    </tr>\n    <tr>\n      <th>25%</th>\n      <td>6.400000</td>\n      <td>0.230000</td>\n      <td>0.250000</td>\n      <td>1.800000</td>\n      <td>0.038000</td>\n      <td>17.000000</td>\n      <td>77.000000</td>\n      <td>0.992340</td>\n      <td>3.110000</td>\n      <td>0.430000</td>\n      <td>9.500000</td>\n      <td>5.000000</td>\n    </tr>\n    <tr>\n      <th>50%</th>\n      <td>7.000000</td>\n      <td>0.290000</td>\n      <td>0.310000</td>\n      <td>3.000000</td>\n      <td>0.047000</td>\n      <td>29.000000</td>\n      <td>118.000000</td>\n      <td>0.994890</td>\n      <td>3.210000</td>\n      <td>0.510000</td>\n      <td>10.300000</td>\n      <td>6.000000</td>\n    </tr>\n    <tr>\n      <th>75%</th>\n      <td>7.700000</td>\n      <td>0.400000</td>\n      <td>0.390000</td>\n      <td>8.100000</td>\n      <td>0.065000</td>\n      <td>41.000000</td>\n      <td>156.000000</td>\n      <td>0.996990</td>\n      <td>3.320000</td>\n      <td>0.600000</td>\n      <td>11.300000</td>\n      <td>6.000000</td>\n    </tr>\n    <tr>\n      <th>max</th>\n      <td>15.900000</td>\n      <td>1.580000</td>\n      <td>1.660000</td>\n      <td>65.800000</td>\n      <td>0.611000</td>\n      <td>289.000000</td>\n      <td>440.000000</td>\n      <td>1.038980</td>\n      <td>4.010000</td>\n      <td>2.000000</td>\n      <td>14.900000</td>\n      <td>9.000000</td>\n    </tr>\n  </tbody>\n</table>\n</div>"
     },
     "metadata": {}
    }
   ]
  },
  {
   "cell_type": "markdown",
   "source": "4. Crea una variable donde almacenarás los valores de la columna `quality`. Revisa sus estadísticas descriptivas principales.",
   "metadata": {
    "cell_id": "800cb68e45814a469a537963e99a9b3c",
    "tags": [],
    "deepnote_cell_type": "markdown",
    "deepnote_cell_height": 68.73333740234375
   }
  },
  {
   "cell_type": "code",
   "metadata": {
    "cell_id": "2d7baa5f01d1442dab3c005d36d2b5b8",
    "tags": [],
    "deepnote_to_be_reexecuted": false,
    "source_hash": "45b0467f",
    "execution_start": 1653346661921,
    "execution_millis": 173,
    "deepnote_cell_type": "code",
    "deepnote_cell_height": 289,
    "deepnote_output_heights": [
     175
    ]
   },
   "source": "quality = total_wine['quality']\nquality.describe()",
   "execution_count": 20,
   "outputs": [
    {
     "output_type": "execute_result",
     "execution_count": 20,
     "data": {
      "text/plain": "count    6497.000000\nmean        5.818378\nstd         0.873255\nmin         3.000000\n25%         5.000000\n50%         6.000000\n75%         6.000000\nmax         9.000000\nName: quality, dtype: float64"
     },
     "metadata": {}
    }
   ]
  },
  {
   "cell_type": "markdown",
   "source": "5. Cuenta los valores únicos de la variable `quality`. Para visualizar cómo se comporta e identificar si es una variable discreta o continua.",
   "metadata": {
    "cell_id": "557bcada3c3546c58c8e65bef7fc9be9",
    "tags": [],
    "deepnote_cell_type": "markdown",
    "deepnote_cell_height": 91.13333129882812
   }
  },
  {
   "cell_type": "code",
   "metadata": {
    "cell_id": "7d5e40194f6749cf96f43a31eb8e7fa4",
    "tags": [],
    "deepnote_to_be_reexecuted": false,
    "source_hash": "3c17106",
    "execution_start": 1653346687411,
    "execution_millis": 7,
    "deepnote_cell_type": "code",
    "deepnote_cell_height": 117,
    "deepnote_output_heights": [
     21
    ]
   },
   "source": "quality.unique()",
   "execution_count": 23,
   "outputs": [
    {
     "output_type": "execute_result",
     "execution_count": 23,
     "data": {
      "text/plain": "array([5, 6, 7, 4, 8, 3, 9])"
     },
     "metadata": {}
    }
   ]
  },
  {
   "cell_type": "markdown",
   "source": "6. Escribe tus observaciones de cada uno de los pasos anteriores de esta sección:",
   "metadata": {
    "cell_id": "a253b7d5b9e84e68970d5dedf793343b",
    "tags": [],
    "deepnote_cell_type": "markdown",
    "deepnote_cell_height": 68.73333740234375
   }
  },
  {
   "cell_type": "markdown",
   "source": "- Nuestra variable objetivo es la calidad del vino\n",
   "metadata": {
    "cell_id": "fdfd222298af434fa28e31df6f9aaddd",
    "tags": [],
    "deepnote_cell_type": "markdown",
    "deepnote_cell_height": 69.06666564941406
   }
  },
  {
   "cell_type": "markdown",
   "source": "### *Clases sugeridas*:\n\n- [Shape y Reshape](https://platzi.com/clases/2912-pandas-numpy/47979-shape-y-reshape/?utm_source=contenido&utm_medium=organic&utm_campaign=ejercicio-eda)\n- [Funciones principales de Pandas](https://platzi.com/clases/2912-pandas-numpy/47990-funciones-principales-de-pandas/?utm_source=contenido&utm_medium=organic&utm_campaign=ejercicio-eda)\n- [Medidas de tendencia central](https://platzi.com/clases/2353-estadistica-descriptiva/38396-medidas-de-tendencia-central/?utm_source=contenido&utm_medium=organic&utm_campaign=ejercicio-eda)\n- [Medidas de tendencia central en Python](https://platzi.com/clases/2353-estadistica-descriptiva/38398-medidas-de-tendencia-central-en-python/?utm_source=contenido&utm_medium=organic&utm_campaign=ejercicio-eda)",
   "metadata": {
    "cell_id": "7f237beeba314f259b040b6157b3f4c0",
    "tags": [],
    "deepnote_cell_type": "markdown",
    "deepnote_cell_height": 191.26666259765625
   }
  },
  {
   "cell_type": "markdown",
   "source": "## Categorización de la variable target\n\nEn la sección anterior pudiste observar que la variable `quality` es categórica en naturaleza. Crear categorías de calidad nos ayudará a entender mejor cómo se comporta la calidad en los vinos.\n\nEn esta sección entenderás mejor la razón de esto y lo ejecutarás.\n\n1. Crea una gráfica tipo countplot de la variable `quality` para ver la cantidad de cada valor de calidad.",
   "metadata": {
    "cell_id": "353cfc64c5a041e1a30d606a0d33bd60",
    "tags": [],
    "deepnote_cell_type": "markdown",
    "deepnote_cell_height": 216.93333435058594
   }
  },
  {
   "cell_type": "code",
   "metadata": {
    "cell_id": "77093e0e8f5e4a459addc4d2a884b922",
    "tags": [],
    "deepnote_to_be_reexecuted": false,
    "source_hash": "1b01ce47",
    "execution_start": 1653348578776,
    "execution_millis": 208,
    "deepnote_cell_type": "code",
    "deepnote_cell_height": 454.73333740234375,
    "deepnote_output_heights": [
     250,
     264
    ]
   },
   "source": "sns.countplot(quality)\nplt.show()",
   "execution_count": 26,
   "outputs": [
    {
     "name": "stderr",
     "text": "/shared-libs/python3.7/py/lib/python3.7/site-packages/seaborn/_decorators.py:43: FutureWarning: Pass the following variable as a keyword arg: x. From version 0.12, the only valid positional argument will be `data`, and passing other arguments without an explicit keyword will result in an error or misinterpretation.\n  FutureWarning\n",
     "output_type": "stream"
    },
    {
     "data": {
      "text/plain": "<Figure size 432x288 with 1 Axes>",
      "image/png": "[encoded data removed]"
     },
     "metadata": {
      "needs_background": "light",
      "image/png": {
       "width": 395,
       "height": 262
      }
     },
     "output_type": "display_data"
    }
   ]
  },
  {
   "cell_type": "markdown",
   "source": "Con la visualización anterior es mucho más sencillo de observar cómo se categorizan los valores de calidad en 3 grupos principales (baja, media y alta). \n\n2. Completa la siguiente función lambda con las condiciones necesarias para agregar una columna al DataFrame donde se indique la categoría de calidad: 'Poor', 'Medium', 'High'. Para ello deberás definir el criterio de rango de valores de cada categoría de acuerdo a lo que observaste en la gráfica anterior.",
   "metadata": {
    "cell_id": "e74d078e3d5748739cd0c92059b3e6b5",
    "tags": [],
    "deepnote_cell_type": "markdown",
    "deepnote_cell_height": 169.3333282470703
   }
  },
  {
   "cell_type": "code",
   "metadata": {
    "cell_id": "56bbbb13c5be44b4a7a961046654b307",
    "tags": [],
    "deepnote_to_be_reexecuted": false,
    "source_hash": "5dd27c7f",
    "execution_start": 1653349663249,
    "execution_millis": 88,
    "deepnote_cell_type": "code",
    "deepnote_cell_height": 423
   },
   "source": "total_wine['quality_category'] = total_wine['quality'].apply(lambda x: 'Poor' if x in [3,4] else ('High' if x in [8,9] else 'Medium'))\ntotal_wine.tail()",
   "execution_count": 27,
   "outputs": [
    {
     "output_type": "execute_result",
     "execution_count": 27,
     "data": {
      "application/vnd.deepnote.dataframe.v3+json": {
       "column_count": 14,
       "row_count": 5,
       "columns": [
        {
         "name": "fixed acidity",
         "dtype": "float64",
         "stats": {
          "unique_count": 5,
          "nan_count": 0,
          "min": "5.5",
          "max": "6.6",
          "histogram": [
           {
            "bin_start": 5.5,
            "bin_end": 5.61,
            "count": 1
           },
           {
            "bin_start": 5.61,
            "bin_end": 5.72,
            "count": 0
           },
           {
            "bin_start": 5.72,
            "bin_end": 5.83,
            "count": 0
           },
           {
            "bin_start": 5.83,
            "bin_end": 5.9399999999999995,
            "count": 0
           },
           {
            "bin_start": 5.9399999999999995,
            "bin_end": 6.05,
            "count": 1
           },
           {
            "bin_start": 6.05,
            "bin_end": 6.16,
            "count": 0
           },
           {
            "bin_start": 6.16,
            "bin_end": 6.27,
            "count": 1
           },
           {
            "bin_start": 6.27,
            "bin_end": 6.38,
            "count": 0
           },
           {
            "bin_start": 6.38,
            "bin_end": 6.489999999999999,
            "count": 0
           },
           {
            "bin_start": 6.489999999999999,
            "bin_end": 6.6,
            "count": 2
           }
          ]
         }
        },
        {
         "name": "volatile acidity",
         "dtype": "float64",
         "stats": {
          "unique_count": 4,
          "nan_count": 0,
          "min": "0.21",
          "max": "0.32",
          "histogram": [
           {
            "bin_start": 0.21,
            "bin_end": 0.221,
            "count": 2
           },
           {
            "bin_start": 0.221,
            "bin_end": 0.23199999999999998,
            "count": 0
           },
           {
            "bin_start": 0.23199999999999998,
            "bin_end": 0.243,
            "count": 1
           },
           {
            "bin_start": 0.243,
            "bin_end": 0.254,
            "count": 0
           },
           {
            "bin_start": 0.254,
            "bin_end": 0.265,
            "count": 0
           },
           {
            "bin_start": 0.265,
            "bin_end": 0.276,
            "count": 0
           },
           {
            "bin_start": 0.276,
            "bin_end": 0.28700000000000003,
            "count": 0
           },
           {
            "bin_start": 0.28700000000000003,
            "bin_end": 0.298,
            "count": 1
           },
           {
            "bin_start": 0.298,
            "bin_end": 0.309,
            "count": 0
           },
           {
            "bin_start": 0.309,
            "bin_end": 0.32,
            "count": 1
           }
          ]
         }
        },
        {
         "name": "citric acid",
         "dtype": "float64",
         "stats": {
          "unique_count": 5,
          "nan_count": 0,
          "min": "0.19",
          "max": "0.38",
          "histogram": [
           {
            "bin_start": 0.19,
            "bin_end": 0.209,
            "count": 1
           },
           {
            "bin_start": 0.209,
            "bin_end": 0.228,
            "count": 0
           },
           {
            "bin_start": 0.228,
            "bin_end": 0.247,
            "count": 0
           },
           {
            "bin_start": 0.247,
            "bin_end": 0.266,
            "count": 0
           },
           {
            "bin_start": 0.266,
            "bin_end": 0.28500000000000003,
            "count": 0
           },
           {
            "bin_start": 0.28500000000000003,
            "bin_end": 0.304,
            "count": 2
           },
           {
            "bin_start": 0.304,
            "bin_end": 0.323,
            "count": 0
           },
           {
            "bin_start": 0.323,
            "bin_end": 0.34199999999999997,
            "count": 0
           },
           {
            "bin_start": 0.34199999999999997,
            "bin_end": 0.361,
            "count": 1
           },
           {
            "bin_start": 0.361,
            "bin_end": 0.38,
            "count": 1
           }
          ]
         }
        },
        {
         "name": "residual sugar",
         "dtype": "float64",
         "stats": {
          "unique_count": 5,
          "nan_count": 0,
          "min": "0.8",
          "max": "8.0",
          "histogram": [
           {
            "bin_start": 0.8,
            "bin_end": 1.52,
            "count": 3
           },
           {
            "bin_start": 1.52,
            "bin_end": 2.24,
            "count": 1
           },
           {
            "bin_start": 2.24,
            "bin_end": 2.96,
            "count": 0
           },
           {
            "bin_start": 2.96,
            "bin_end": 3.6799999999999997,
            "count": 0
           },
           {
            "bin_start": 3.6799999999999997,
            "bin_end": 4.3999999999999995,
            "count": 0
           },
           {
            "bin_start": 4.3999999999999995,
            "bin_end": 5.12,
            "count": 0
           },
           {
            "bin_start": 5.12,
            "bin_end": 5.84,
            "count": 0
           },
           {
            "bin_start": 5.84,
            "bin_end": 6.56,
            "count": 0
           },
           {
            "bin_start": 6.56,
            "bin_end": 7.279999999999999,
            "count": 0
           },
           {
            "bin_start": 7.279999999999999,
            "bin_end": 8,
            "count": 1
           }
          ]
         }
        },
        {
         "name": "chlorides",
         "dtype": "float64",
         "stats": {
          "unique_count": 5,
          "nan_count": 0,
          "min": "0.02",
          "max": "0.047",
          "histogram": [
           {
            "bin_start": 0.02,
            "bin_end": 0.0227,
            "count": 2
           },
           {
            "bin_start": 0.0227,
            "bin_end": 0.0254,
            "count": 0
           },
           {
            "bin_start": 0.0254,
            "bin_end": 0.0281,
            "count": 0
           },
           {
            "bin_start": 0.0281,
            "bin_end": 0.0308,
            "count": 0
           },
           {
            "bin_start": 0.0308,
            "bin_end": 0.0335,
            "count": 0
           },
           {
            "bin_start": 0.0335,
            "bin_end": 0.036199999999999996,
            "count": 0
           },
           {
            "bin_start": 0.036199999999999996,
            "bin_end": 0.038900000000000004,
            "count": 0
           },
           {
            "bin_start": 0.038900000000000004,
            "bin_end": 0.0416,
            "count": 2
           },
           {
            "bin_start": 0.0416,
            "bin_end": 0.044300000000000006,
            "count": 0
           },
           {
            "bin_start": 0.044300000000000006,
            "bin_end": 0.047,
            "count": 1
           }
          ]
         }
        },
        {
         "name": "free sulfur dioxide",
         "dtype": "float64",
         "stats": {
          "unique_count": 5,
          "nan_count": 0,
          "min": "20.0",
          "max": "57.0",
          "histogram": [
           {
            "bin_start": 20,
            "bin_end": 23.7,
            "count": 2
           },
           {
            "bin_start": 23.7,
            "bin_end": 27.4,
            "count": 1
           },
           {
            "bin_start": 27.4,
            "bin_end": 31.1,
            "count": 1
           },
           {
            "bin_start": 31.1,
            "bin_end": 34.8,
            "count": 0
           },
           {
            "bin_start": 34.8,
            "bin_end": 38.5,
            "count": 0
           },
           {
            "bin_start": 38.5,
            "bin_end": 42.2,
            "count": 0
           },
           {
            "bin_start": 42.2,
            "bin_end": 45.900000000000006,
            "count": 0
           },
           {
            "bin_start": 45.900000000000006,
            "bin_end": 49.6,
            "count": 0
           },
           {
            "bin_start": 49.6,
            "bin_end": 53.300000000000004,
            "count": 0
           },
           {
            "bin_start": 53.300000000000004,
            "bin_end": 57,
            "count": 1
           }
          ]
         }
        },
        {
         "name": "total sulfur dioxide",
         "dtype": "float64",
         "stats": {
          "unique_count": 5,
          "nan_count": 0,
          "min": "92.0",
          "max": "168.0",
          "histogram": [
           {
            "bin_start": 92,
            "bin_end": 99.6,
            "count": 2
           },
           {
            "bin_start": 99.6,
            "bin_end": 107.2,
            "count": 0
           },
           {
            "bin_start": 107.2,
            "bin_end": 114.8,
            "count": 2
           },
           {
            "bin_start": 114.8,
            "bin_end": 122.4,
            "count": 0
           },
           {
            "bin_start": 122.4,
            "bin_end": 130,
            "count": 0
           },
           {
            "bin_start": 130,
            "bin_end": 137.6,
            "count": 0
           },
           {
            "bin_start": 137.6,
            "bin_end": 145.2,
            "count": 0
           },
           {
            "bin_start": 145.2,
            "bin_end": 152.8,
            "count": 0
           },
           {
            "bin_start": 152.8,
            "bin_end": 160.39999999999998,
            "count": 0
           },
           {
            "bin_start": 160.39999999999998,
            "bin_end": 168,
            "count": 1
           }
          ]
         }
        },
        {
         "name": "density",
         "dtype": "float64",
         "stats": {
          "unique_count": 5,
          "nan_count": 0,
          "min": "0.98869",
          "max": "0.9949",
          "histogram": [
           {
            "bin_start": 0.98869,
            "bin_end": 0.9893109999999999,
            "count": 1
           },
           {
            "bin_start": 0.9893109999999999,
            "bin_end": 0.9899319999999999,
            "count": 1
           },
           {
            "bin_start": 0.9899319999999999,
            "bin_end": 0.990553,
            "count": 0
           },
           {
            "bin_start": 0.990553,
            "bin_end": 0.991174,
            "count": 1
           },
           {
            "bin_start": 0.991174,
            "bin_end": 0.991795,
            "count": 0
           },
           {
            "bin_start": 0.991795,
            "bin_end": 0.992416,
            "count": 0
           },
           {
            "bin_start": 0.992416,
            "bin_end": 0.993037,
            "count": 1
           },
           {
            "bin_start": 0.993037,
            "bin_end": 0.993658,
            "count": 0
           },
           {
            "bin_start": 0.993658,
            "bin_end": 0.994279,
            "count": 0
           },
           {
            "bin_start": 0.994279,
            "bin_end": 0.9949,
            "count": 1
           }
          ]
         }
        },
        {
         "name": "pH",
         "dtype": "float64",
         "stats": {
          "unique_count": 5,
          "nan_count": 0,
          "min": "2.99",
          "max": "3.34",
          "histogram": [
           {
            "bin_start": 2.99,
            "bin_end": 3.0250000000000004,
            "count": 1
           },
           {
            "bin_start": 3.0250000000000004,
            "bin_end": 3.06,
            "count": 0
           },
           {
            "bin_start": 3.06,
            "bin_end": 3.095,
            "count": 0
           },
           {
            "bin_start": 3.095,
            "bin_end": 3.13,
            "count": 0
           },
           {
            "bin_start": 3.13,
            "bin_end": 3.165,
            "count": 1
           },
           {
            "bin_start": 3.165,
            "bin_end": 3.2,
            "count": 0
           },
           {
            "bin_start": 3.2,
            "bin_end": 3.235,
            "count": 0
           },
           {
            "bin_start": 3.235,
            "bin_end": 3.27,
            "count": 1
           },
           {
            "bin_start": 3.27,
            "bin_end": 3.3049999999999997,
            "count": 1
           },
           {
            "bin_start": 3.3049999999999997,
            "bin_end": 3.34,
            "count": 1
           }
          ]
         }
        },
        {
         "name": "sulphates",
         "dtype": "float64",
         "stats": {
          "unique_count": 4,
          "nan_count": 0,
          "min": "0.32",
          "max": "0.5",
          "histogram": [
           {
            "bin_start": 0.32,
            "bin_end": 0.338,
            "count": 1
           },
           {
            "bin_start": 0.338,
            "bin_end": 0.356,
            "count": 0
           },
           {
            "bin_start": 0.356,
            "bin_end": 0.374,
            "count": 0
           },
           {
            "bin_start": 0.374,
            "bin_end": 0.392,
            "count": 1
           },
           {
            "bin_start": 0.392,
            "bin_end": 0.41000000000000003,
            "count": 0
           },
           {
            "bin_start": 0.41000000000000003,
            "bin_end": 0.428,
            "count": 0
           },
           {
            "bin_start": 0.428,
            "bin_end": 0.446,
            "count": 0
           },
           {
            "bin_start": 0.446,
            "bin_end": 0.46399999999999997,
            "count": 2
           },
           {
            "bin_start": 0.46399999999999997,
            "bin_end": 0.482,
            "count": 0
           },
           {
            "bin_start": 0.482,
            "bin_end": 0.5,
            "count": 1
           }
          ]
         }
        },
        {
         "name": "alcohol",
         "dtype": "float64",
         "stats": {
          "unique_count": 5,
          "nan_count": 0,
          "min": "9.4",
          "max": "12.8",
          "histogram": [
           {
            "bin_start": 9.4,
            "bin_end": 9.74,
            "count": 2
           },
           {
            "bin_start": 9.74,
            "bin_end": 10.08,
            "count": 0
           },
           {
            "bin_start": 10.08,
            "bin_end": 10.42,
            "count": 0
           },
           {
            "bin_start": 10.42,
            "bin_end": 10.76,
            "count": 0
           },
           {
            "bin_start": 10.76,
            "bin_end": 11.100000000000001,
            "count": 0
           },
           {
            "bin_start": 11.100000000000001,
            "bin_end": 11.440000000000001,
            "count": 1
           },
           {
            "bin_start": 11.440000000000001,
            "bin_end": 11.780000000000001,
            "count": 0
           },
           {
            "bin_start": 11.780000000000001,
            "bin_end": 12.120000000000001,
            "count": 1
           },
           {
            "bin_start": 12.120000000000001,
            "bin_end": 12.46,
            "count": 0
           },
           {
            "bin_start": 12.46,
            "bin_end": 12.8,
            "count": 1
           }
          ]
         }
        },
        {
         "name": "quality",
         "dtype": "int64",
         "stats": {
          "unique_count": 3,
          "nan_count": 0,
          "min": "5",
          "max": "7",
          "histogram": [
           {
            "bin_start": 5,
            "bin_end": 5.2,
            "count": 1
           },
           {
            "bin_start": 5.2,
            "bin_end": 5.4,
            "count": 0
           },
           {
            "bin_start": 5.4,
            "bin_end": 5.6,
            "count": 0
           },
           {
            "bin_start": 5.6,
            "bin_end": 5.8,
            "count": 0
           },
           {
            "bin_start": 5.8,
            "bin_end": 6,
            "count": 0
           },
           {
            "bin_start": 6,
            "bin_end": 6.2,
            "count": 3
           },
           {
            "bin_start": 6.2,
            "bin_end": 6.4,
            "count": 0
           },
           {
            "bin_start": 6.4,
            "bin_end": 6.6,
            "count": 0
           },
           {
            "bin_start": 6.6,
            "bin_end": 6.8,
            "count": 0
           },
           {
            "bin_start": 6.8,
            "bin_end": 7,
            "count": 1
           }
          ]
         }
        },
        {
         "name": "category",
         "dtype": "object",
         "stats": {
          "unique_count": 1,
          "nan_count": 0,
          "categories": [
           {
            "name": "white",
            "count": 5
           }
          ]
         }
        },
        {
         "name": "quality_category",
         "dtype": "object",
         "stats": {
          "unique_count": 1,
          "nan_count": 0,
          "categories": [
           {
            "name": "Medium",
            "count": 5
           }
          ]
         }
        },
        {
         "name": "_deepnote_index_column",
         "dtype": "int64"
        }
       ],
       "rows": [
        {
         "fixed acidity": 6.2,
         "volatile acidity": 0.21,
         "citric acid": 0.29,
         "residual sugar": 1.6,
         "chlorides": 0.039,
         "free sulfur dioxide": 24,
         "total sulfur dioxide": 92,
         "density": 0.99114,
         "pH": 3.27,
         "sulphates": 0.5,
         "alcohol": 11.2,
         "quality": 6,
         "category": "white",
         "quality_category": "Medium",
         "_deepnote_index_column": 6492
        },
        {
         "fixed acidity": 6.6,
         "volatile acidity": 0.32,
         "citric acid": 0.36,
         "residual sugar": 8,
         "chlorides": 0.047,
         "free sulfur dioxide": 57,
         "total sulfur dioxide": 168,
         "density": 0.9949,
         "pH": 3.15,
         "sulphates": 0.46,
         "alcohol": 9.6,
         "quality": 5,
         "category": "white",
         "quality_category": "Medium",
         "_deepnote_index_column": 6493
        },
        {
         "fixed acidity": 6.5,
         "volatile acidity": 0.24,
         "citric acid": 0.19,
         "residual sugar": 1.2,
         "chlorides": 0.041,
         "free sulfur dioxide": 30,
         "total sulfur dioxide": 111,
         "density": 0.99254,
         "pH": 2.99,
         "sulphates": 0.46,
         "alcohol": 9.4,
         "quality": 6,
         "category": "white",
         "quality_category": "Medium",
         "_deepnote_index_column": 6494
        },
        {
         "fixed acidity": 5.5,
         "volatile acidity": 0.29,
         "citric acid": 0.3,
         "residual sugar": 1.1,
         "chlorides": 0.022,
         "free sulfur dioxide": 20,
         "total sulfur dioxide": 110,
         "density": 0.98869,
         "pH": 3.34,
         "sulphates": 0.38,
         "alcohol": 12.8,
         "quality": 7,
         "category": "white",
         "quality_category": "Medium",
         "_deepnote_index_column": 6495
        },
        {
         "fixed acidity": 6,
         "volatile acidity": 0.21,
         "citric acid": 0.38,
         "residual sugar": 0.8,
         "chlorides": 0.02,
         "free sulfur dioxide": 22,
         "total sulfur dioxide": 98,
         "density": 0.98941,
         "pH": 3.26,
         "sulphates": 0.32,
         "alcohol": 11.8,
         "quality": 6,
         "category": "white",
         "quality_category": "Medium",
         "_deepnote_index_column": 6496
        }
       ]
      },
      "text/plain": "      fixed acidity  volatile acidity  citric acid  residual sugar  chlorides  \\\n6492            6.2              0.21         0.29             1.6      0.039   \n6493            6.6              0.32         0.36             8.0      0.047   \n6494            6.5              0.24         0.19             1.2      0.041   \n6495            5.5              0.29         0.30             1.1      0.022   \n6496            6.0              0.21         0.38             0.8      0.020   \n\n      free sulfur dioxide  total sulfur dioxide  density    pH  sulphates  \\\n6492                 24.0                  92.0  0.99114  3.27       0.50   \n6493                 57.0                 168.0  0.99490  3.15       0.46   \n6494                 30.0                 111.0  0.99254  2.99       0.46   \n6495                 20.0                 110.0  0.98869  3.34       0.38   \n6496                 22.0                  98.0  0.98941  3.26       0.32   \n\n      alcohol  quality category quality_category  \n6492     11.2        6    white           Medium  \n6493      9.6        5    white           Medium  \n6494      9.4        6    white           Medium  \n6495     12.8        7    white           Medium  \n6496     11.8        6    white           Medium  ",
      "text/html": "<div>\n<style scoped>\n    .dataframe tbody tr th:only-of-type {\n        vertical-align: middle;\n    }\n\n    .dataframe tbody tr th {\n        vertical-align: top;\n    }\n\n    .dataframe thead th {\n        text-align: right;\n    }\n</style>\n<table border=\"1\" class=\"dataframe\">\n  <thead>\n    <tr style=\"text-align: right;\">\n      <th></th>\n      <th>fixed acidity</th>\n      <th>volatile acidity</th>\n      <th>citric acid</th>\n      <th>residual sugar</th>\n      <th>chlorides</th>\n      <th>free sulfur dioxide</th>\n      <th>total sulfur dioxide</th>\n      <th>density</th>\n      <th>pH</th>\n      <th>sulphates</th>\n      <th>alcohol</th>\n      <th>quality</th>\n      <th>category</th>\n      <th>quality_category</th>\n    </tr>\n  </thead>\n  <tbody>\n    <tr>\n      <th>6492</th>\n      <td>6.2</td>\n      <td>0.21</td>\n      <td>0.29</td>\n      <td>1.6</td>\n      <td>0.039</td>\n      <td>24.0</td>\n      <td>92.0</td>\n      <td>0.99114</td>\n      <td>3.27</td>\n      <td>0.50</td>\n      <td>11.2</td>\n      <td>6</td>\n      <td>white</td>\n      <td>Medium</td>\n    </tr>\n    <tr>\n      <th>6493</th>\n      <td>6.6</td>\n      <td>0.32</td>\n      <td>0.36</td>\n      <td>8.0</td>\n      <td>0.047</td>\n      <td>57.0</td>\n      <td>168.0</td>\n      <td>0.99490</td>\n      <td>3.15</td>\n      <td>0.46</td>\n      <td>9.6</td>\n      <td>5</td>\n      <td>white</td>\n      <td>Medium</td>\n    </tr>\n    <tr>\n      <th>6494</th>\n      <td>6.5</td>\n      <td>0.24</td>\n      <td>0.19</td>\n      <td>1.2</td>\n      <td>0.041</td>\n      <td>30.0</td>\n      <td>111.0</td>\n      <td>0.99254</td>\n      <td>2.99</td>\n      <td>0.46</td>\n      <td>9.4</td>\n      <td>6</td>\n      <td>white</td>\n      <td>Medium</td>\n    </tr>\n    <tr>\n      <th>6495</th>\n      <td>5.5</td>\n      <td>0.29</td>\n      <td>0.30</td>\n      <td>1.1</td>\n      <td>0.022</td>\n      <td>20.0</td>\n      <td>110.0</td>\n      <td>0.98869</td>\n      <td>3.34</td>\n      <td>0.38</td>\n      <td>12.8</td>\n      <td>7</td>\n      <td>white</td>\n      <td>Medium</td>\n    </tr>\n    <tr>\n      <th>6496</th>\n      <td>6.0</td>\n      <td>0.21</td>\n      <td>0.38</td>\n      <td>0.8</td>\n      <td>0.020</td>\n      <td>22.0</td>\n      <td>98.0</td>\n      <td>0.98941</td>\n      <td>3.26</td>\n      <td>0.32</td>\n      <td>11.8</td>\n      <td>6</td>\n      <td>white</td>\n      <td>Medium</td>\n    </tr>\n  </tbody>\n</table>\n</div>"
     },
     "metadata": {}
    }
   ]
  },
  {
   "cell_type": "code",
   "source": "total_wine['quality'].value_counts()",
   "metadata": {
    "cell_id": "b61296b3d49a4ed89315203bacd17196",
    "tags": [],
    "deepnote_to_be_reexecuted": false,
    "source_hash": "c79667ee",
    "execution_start": 1653349695998,
    "execution_millis": 12,
    "deepnote_cell_type": "code",
    "deepnote_cell_height": 252,
    "deepnote_output_heights": [
     156
    ]
   },
   "outputs": [
    {
     "output_type": "execute_result",
     "execution_count": 29,
     "data": {
      "text/plain": "6    2836\n5    2138\n7    1079\n4     216\n8     193\n3      30\n9       5\nName: quality, dtype: int64"
     },
     "metadata": {}
    }
   ],
   "execution_count": 29
  },
  {
   "cell_type": "markdown",
   "source": "2.1 Redefine el tipo de variable de la nueva columna como tipo 'category'.",
   "metadata": {
    "cell_id": "06fb3a05a9bc4b53a2e364851fa53ff4",
    "tags": [],
    "deepnote_cell_type": "markdown",
    "deepnote_cell_height": 51.73333740234375
   }
  },
  {
   "cell_type": "code",
   "metadata": {
    "cell_id": "385768277865463a956d1df772369e90",
    "tags": [],
    "deepnote_to_be_reexecuted": false,
    "source_hash": "f342352c",
    "execution_start": 1653349836025,
    "execution_millis": 4,
    "deepnote_cell_type": "code",
    "deepnote_cell_height": 526.2000122070312
   },
   "source": "total_wine.quality_category = total_wine.quality_category.astype('category')\ntotal_wine.info()",
   "execution_count": 30,
   "outputs": [
    {
     "name": "stdout",
     "text": "<class 'pandas.core.frame.DataFrame'>\nRangeIndex: 6497 entries, 0 to 6496\nData columns (total 14 columns):\n #   Column                Non-Null Count  Dtype   \n---  ------                --------------  -----   \n 0   fixed acidity         6497 non-null   float64 \n 1   volatile acidity      6497 non-null   float64 \n 2   citric acid           6497 non-null   float64 \n 3   residual sugar        6497 non-null   float64 \n 4   chlorides             6497 non-null   float64 \n 5   free sulfur dioxide   6497 non-null   float64 \n 6   total sulfur dioxide  6497 non-null   float64 \n 7   density               6497 non-null   float64 \n 8   pH                    6497 non-null   float64 \n 9   sulphates             6497 non-null   float64 \n 10  alcohol               6497 non-null   float64 \n 11  quality               6497 non-null   int64   \n 12  category              6497 non-null   object  \n 13  quality_category      6497 non-null   category\ndtypes: category(1), float64(11), int64(1), object(1)\nmemory usage: 666.5+ KB\n",
     "output_type": "stream"
    }
   ]
  },
  {
   "cell_type": "markdown",
   "source": "3. Crea una gráfica para visualizar el conteo de datos en cada una de las categorías de calidad del vino.",
   "metadata": {
    "cell_id": "5e6ff4ca0e47429aab38c6d0d5453675",
    "tags": [],
    "deepnote_cell_type": "markdown",
    "deepnote_cell_height": 68.73333740234375
   }
  },
  {
   "cell_type": "code",
   "metadata": {
    "cell_id": "e511d6780d7e4a3e9027724b5a2eb256",
    "tags": [],
    "deepnote_to_be_reexecuted": false,
    "source_hash": "a86bb933",
    "execution_start": 1653349869063,
    "execution_millis": 296,
    "deepnote_cell_type": "code",
    "deepnote_cell_height": 455.73333740234375,
    "deepnote_output_heights": [
     null,
     265
    ]
   },
   "source": "sns.countplot(total_wine.quality_category)\nplt.show()",
   "execution_count": 31,
   "outputs": [
    {
     "name": "stderr",
     "text": "/shared-libs/python3.7/py/lib/python3.7/site-packages/seaborn/_decorators.py:43: FutureWarning: Pass the following variable as a keyword arg: x. From version 0.12, the only valid positional argument will be `data`, and passing other arguments without an explicit keyword will result in an error or misinterpretation.\n  FutureWarning\n",
     "output_type": "stream"
    },
    {
     "data": {
      "text/plain": "<Figure size 432x288 with 1 Axes>",
      "image/png": "[encoded data removed]"
     },
     "metadata": {
      "needs_background": "light",
      "image/png": {
       "width": 395,
       "height": 263
      }
     },
     "output_type": "display_data"
    }
   ]
  },
  {
   "cell_type": "markdown",
   "source": "4. Escribe tus observaciones de cada uno de los pasos anteriores de esta sección:",
   "metadata": {
    "cell_id": "8bcdc54d63b94177be505af0fd06ca82",
    "tags": [],
    "deepnote_cell_type": "markdown",
    "deepnote_cell_height": 68.73333740234375
   }
  },
  {
   "cell_type": "markdown",
   "source": "- La calidad del vino se comporta de manera normal\n- Al categorizar la calidad del vino, las categorías Poor y High se comportan como datos atípicos",
   "metadata": {
    "cell_id": "af233dee447c415784ac8c4990d3fd4a",
    "tags": [],
    "deepnote_cell_type": "markdown",
    "deepnote_cell_height": 94.80000305175781
   }
  },
  {
   "cell_type": "markdown",
   "source": "### *Clases sugeridas*:\n\nGráficas\n\n- [Set (Seaborn)](https://platzi.com/clases/2913-matplotlib-seaborn/47947-set/?utm_source=contenido&utm_medium=organic&utm_campaign=ejercicio-eda)\n\n- [Categóricos (Seaborn)](https://platzi.com/clases/2913-matplotlib-seaborn/47950-categoricos/?utm_source=contenido&utm_medium=organic&utm_campaign=ejercicio-eda)\n\nApply, lambdas, conversión de datos\n\n- [Funciones anónimas: lambdas](https://platzi.com/clases/2255-python-intermedio/36465-funciones-anonimas-lambda/?utm_source=contenido&utm_medium=organic&utm_campaign=ejercicio-eda)\n\n- [Apply (Pandas)](https://platzi.com/clases/2912-pandas-numpy/47996-apply/?utm_source=contenido&utm_medium=organic&utm_campaign=ejercicio-eda)\n\n- [Tipos de datos (NumPy y Pandas)](https://platzi.com/clases/2912-pandas-numpy/47976-tipos-de-datos/?utm_source=contenido&utm_medium=organic&utm_campaign=ejercicio-eda)",
   "metadata": {
    "cell_id": "011079a43d364b7598e4c579f5aa56fe",
    "tags": [],
    "deepnote_cell_type": "markdown",
    "deepnote_cell_height": 299.1333312988281
   }
  },
  {
   "cell_type": "markdown",
   "source": "## Manejo de outliers\n\nEn una sección anterior tuviste una pista de qué existen outliers en el dataset. \n\n1. Utiliza el método que veas más conveniente para detectar outliers en tu dataset. Por ejemplo, boxplots, método IQR, etc.",
   "metadata": {
    "cell_id": "7e8d700425d449578c6470339e1bef84",
    "tags": [],
    "deepnote_cell_type": "markdown",
    "deepnote_cell_height": 158.13333129882812
   }
  },
  {
   "cell_type": "code",
   "metadata": {
    "cell_id": "76daa8e29fab451789899534c239a1b4",
    "tags": [],
    "deepnote_to_be_reexecuted": false,
    "source_hash": "6f402f8e",
    "execution_start": 1653352882451,
    "execution_millis": 174,
    "deepnote_cell_type": "code",
    "deepnote_cell_height": 411.66668701171875,
    "deepnote_output_heights": [
     21,
     264
    ]
   },
   "source": "sns.boxplot(x='quality', data=total_wine)",
   "execution_count": 32,
   "outputs": [
    {
     "output_type": "execute_result",
     "execution_count": 32,
     "data": {
      "text/plain": "<AxesSubplot:xlabel='quality'>"
     },
     "metadata": {}
    },
    {
     "data": {
      "text/plain": "<Figure size 432x288 with 1 Axes>",
      "image/png": "[encoded data removed]"
     },
     "metadata": {
      "needs_background": "light",
      "image/png": {
       "width": 352,
       "height": 262
      }
     },
     "output_type": "display_data"
    }
   ]
  },
  {
   "cell_type": "markdown",
   "source": "2. Responde la siguiente pregunta:\n\na) ¿Ves necesario eliminar estos outliers?\n\nb) ¿Por qué?",
   "metadata": {
    "cell_id": "5854f82d45aa4b7ebb231e5395b3f03a",
    "tags": [],
    "deepnote_cell_type": "markdown",
    "deepnote_cell_height": 127.53334045410156
   }
  },
  {
   "cell_type": "code",
   "source": "total_wine['quality_category'].value_counts(normalize=True)",
   "metadata": {
    "cell_id": "71e1c4274bf44da9ac83a993098d5aae",
    "tags": [],
    "deepnote_to_be_reexecuted": false,
    "source_hash": "128ef2cb",
    "execution_start": 1653353033419,
    "execution_millis": 11,
    "deepnote_cell_type": "code",
    "deepnote_cell_height": 175,
    "deepnote_output_heights": [
     79
    ]
   },
   "outputs": [
    {
     "output_type": "execute_result",
     "execution_count": 34,
     "data": {
      "text/plain": "Medium    0.931661\nPoor      0.037864\nHigh      0.030476\nName: quality_category, dtype: float64"
     },
     "metadata": {}
    }
   ],
   "execution_count": 34
  },
  {
   "cell_type": "markdown",
   "source": "Eliminaremos las categorías Poor - High quality, cada una de ellas representa cerca del 3\\% del total de los datos",
   "metadata": {
    "cell_id": "23035d8f05c74f2cae8e9ccba341e4e9",
    "tags": [],
    "deepnote_cell_type": "markdown",
    "deepnote_cell_height": 51.73333740234375
   }
  },
  {
   "cell_type": "code",
   "metadata": {
    "cell_id": "8205c5fe691e451da07a7aa189dc7055",
    "tags": [],
    "deepnote_cell_type": "code",
    "deepnote_cell_height": 65.33332824707031
   },
   "source": "3. Elimina los outliers de ser necesario en la siguiente celda.",
   "execution_count": null,
   "outputs": []
  },
  {
   "cell_type": "code",
   "metadata": {
    "cell_id": "25a182e8574c405396060cbe5c29b4b2",
    "tags": [],
    "deepnote_to_be_reexecuted": false,
    "source_hash": "1b0db0ce",
    "execution_start": 1653353332121,
    "execution_millis": 3,
    "deepnote_cell_type": "code",
    "deepnote_cell_height": 80.33332824707031
   },
   "source": "total_wine = total_wine[total_wine['quality_category']=='Medium']",
   "execution_count": 36,
   "outputs": []
  },
  {
   "cell_type": "code",
   "source": "total_wine['quality_category'].value_counts(normalize=True)",
   "metadata": {
    "cell_id": "e41818bfc7f4400cb626e3de61766662",
    "tags": [],
    "deepnote_to_be_reexecuted": false,
    "source_hash": "128ef2cb",
    "execution_start": 1653353340141,
    "execution_millis": 20,
    "deepnote_cell_type": "code",
    "deepnote_cell_height": 175,
    "deepnote_output_heights": [
     79
    ]
   },
   "outputs": [
    {
     "output_type": "execute_result",
     "execution_count": 37,
     "data": {
      "text/plain": "Medium    1.0\nHigh      0.0\nPoor      0.0\nName: quality_category, dtype: float64"
     },
     "metadata": {}
    }
   ],
   "execution_count": 37
  },
  {
   "cell_type": "markdown",
   "source": "### *Clases sugeridas*:\n\nEstadística descriptiva\n- [Medidas de dispersión](https://platzi.com/clases/2353-estadistica-descriptiva/38399-medidas-de-dispersion/?utm_source=contenido&utm_medium=organic&utm_campaign=ejercicio-eda)\n\n- [Desviación estándar](https://platzi.com/clases/2353-estadistica-descriptiva/38400-desviacion-estandar/?utm_source=contenido&utm_medium=organic&utm_campaign=ejercicio-eda)\n\n- [Medidas de dispersión en Python](https://platzi.com/clases/2353-estadistica-descriptiva/38401-medidas-de-dispersion-en-python/?utm_source=contenido&utm_medium=organic&utm_campaign=ejercicio-eda)\n\nGráficas boxplots\n- [Crear otro tipo de gráficas (Boxplot en Matplotlib)](https://platzi.com/clases/2913-matplotlib-seaborn/47945-crear-otro-tipo-de-graficas/?utm_source=contenido&utm_medium=organic&utm_campaign=ejercicio-eda)\n- [Categóricos (Boxplot en Seaborn)](https://platzi.com/clases/2913-matplotlib-seaborn/47950-categoricos/?utm_source=contenido&utm_medium=organic&utm_campaign=ejercicio-eda)",
   "metadata": {
    "cell_id": "9b931087a3ac41f6871615458d083e4e",
    "tags": [],
    "deepnote_cell_type": "markdown",
    "deepnote_cell_height": 299.79998779296875
   }
  },
  {
   "cell_type": "markdown",
   "source": "## Análisis de correlación entre variables\n\nYa que conociste el comportamiento esencial de las características y la variable `quality` es momento de conocer cómo se relacionan entre sí para descubrir si alguna(s) pueden afectar a esta calidad.\n\n1. Crea una matriz de correlación de las variables numéricas del dataset.",
   "metadata": {
    "cell_id": "4f4b9d717a734351a4b400b1042a3de0",
    "tags": [],
    "deepnote_cell_type": "markdown",
    "deepnote_cell_height": 180.53334045410156
   }
  },
  {
   "cell_type": "code",
   "metadata": {
    "cell_id": "69c38fbb43ed44bcaf7685dea2cd0477",
    "tags": [],
    "deepnote_to_be_reexecuted": false,
    "source_hash": "a1d5d2c8",
    "execution_start": 1653353395120,
    "execution_millis": 75,
    "deepnote_cell_type": "code",
    "deepnote_cell_height": 646,
    "deepnote_output_heights": [
     447
    ]
   },
   "source": "corr_df = total_wine.corr(method='pearson')\ncorr_df\n",
   "execution_count": 40,
   "outputs": [
    {
     "output_type": "execute_result",
     "execution_count": 40,
     "data": {
      "application/vnd.deepnote.dataframe.v3+json": {
       "column_count": 12,
       "row_count": 12,
       "columns": [
        {
         "name": "fixed acidity",
         "dtype": "float64",
         "stats": {
          "unique_count": 12,
          "nan_count": 0,
          "min": "-0.34348306316039506",
          "max": "1.0",
          "histogram": [
           {
            "bin_start": -0.34348306316039506,
            "bin_end": -0.20913475684435556,
            "count": 3
           },
           {
            "bin_start": -0.20913475684435556,
            "bin_end": -0.07478645052831606,
            "count": 2
           },
           {
            "bin_start": -0.07478645052831606,
            "bin_end": 0.05956185578772344,
            "count": 1
           },
           {
            "bin_start": 0.05956185578772344,
            "bin_end": 0.19391016210376294,
            "count": 0
           },
           {
            "bin_start": 0.19391016210376294,
            "bin_end": 0.3282584684198025,
            "count": 4
           },
           {
            "bin_start": 0.3282584684198025,
            "bin_end": 0.46260677473584194,
            "count": 1
           },
           {
            "bin_start": 0.46260677473584194,
            "bin_end": 0.5969550810518813,
            "count": 0
           },
           {
            "bin_start": 0.5969550810518813,
            "bin_end": 0.7313033873679209,
            "count": 0
           },
           {
            "bin_start": 0.7313033873679209,
            "bin_end": 0.8656516936839604,
            "count": 0
           },
           {
            "bin_start": 0.8656516936839604,
            "bin_end": 1,
            "count": 1
           }
          ]
         }
        },
        {
         "name": "volatile acidity",
         "dtype": "float64",
         "stats": {
          "unique_count": 12,
          "nan_count": 0,
          "min": "-0.41793497620577447",
          "max": "1.0",
          "histogram": [
           {
            "bin_start": -0.41793497620577447,
            "bin_end": -0.276141478585197,
            "count": 3
           },
           {
            "bin_start": -0.276141478585197,
            "bin_end": -0.13434798096461958,
            "count": 2
           },
           {
            "bin_start": -0.13434798096461958,
            "bin_end": 0.007445516655957829,
            "count": 1
           },
           {
            "bin_start": 0.007445516655957829,
            "bin_end": 0.1492390142765353,
            "count": 0
           },
           {
            "bin_start": 0.1492390142765353,
            "bin_end": 0.29103251189711277,
            "count": 4
           },
           {
            "bin_start": 0.29103251189711277,
            "bin_end": 0.4328260095176901,
            "count": 1
           },
           {
            "bin_start": 0.4328260095176901,
            "bin_end": 0.5746195071382676,
            "count": 0
           },
           {
            "bin_start": 0.5746195071382676,
            "bin_end": 0.7164130047588451,
            "count": 0
           },
           {
            "bin_start": 0.7164130047588451,
            "bin_end": 0.8582065023794225,
            "count": 0
           },
           {
            "bin_start": 0.8582065023794225,
            "bin_end": 1,
            "count": 1
           }
          ]
         }
        },
        {
         "name": "citric acid",
         "dtype": "float64",
         "stats": {
          "unique_count": 12,
          "nan_count": 0,
          "min": "-0.36985726160628285",
          "max": "1.0",
          "histogram": [
           {
            "bin_start": -0.36985726160628285,
            "bin_end": -0.23287153544565456,
            "count": 2
           },
           {
            "bin_start": -0.23287153544565456,
            "bin_end": -0.09588580928502627,
            "count": 0
           },
           {
            "bin_start": -0.09588580928502627,
            "bin_end": 0.041099916875601994,
            "count": 2
           },
           {
            "bin_start": 0.041099916875601994,
            "bin_end": 0.1780856430362303,
            "count": 5
           },
           {
            "bin_start": 0.1780856430362303,
            "bin_end": 0.31507136919685863,
            "count": 1
           },
           {
            "bin_start": 0.31507136919685863,
            "bin_end": 0.45205709535748684,
            "count": 1
           },
           {
            "bin_start": 0.45205709535748684,
            "bin_end": 0.5890428215181152,
            "count": 0
           },
           {
            "bin_start": 0.5890428215181152,
            "bin_end": 0.7260285476787435,
            "count": 0
           },
           {
            "bin_start": 0.7260285476787435,
            "bin_end": 0.8630142738393717,
            "count": 0
           },
           {
            "bin_start": 0.8630142738393717,
            "bin_end": 1,
            "count": 1
           }
          ]
         }
        },
        {
         "name": "residual sugar",
         "dtype": "float64",
         "stats": {
          "unique_count": 12,
          "nan_count": 0,
          "min": "-0.3679393719836645",
          "max": "1.0",
          "histogram": [
           {
            "bin_start": -0.3679393719836645,
            "bin_end": -0.23114543478529803,
            "count": 2
           },
           {
            "bin_start": -0.23114543478529803,
            "bin_end": -0.09435149758693157,
            "count": 4
           },
           {
            "bin_start": -0.09435149758693157,
            "bin_end": 0.0424424396114349,
            "count": 1
           },
           {
            "bin_start": 0.0424424396114349,
            "bin_end": 0.17923637680980137,
            "count": 1
           },
           {
            "bin_start": 0.17923637680980137,
            "bin_end": 0.3160303140081678,
            "count": 0
           },
           {
            "bin_start": 0.3160303140081678,
            "bin_end": 0.4528242512065343,
            "count": 1
           },
           {
            "bin_start": 0.4528242512065343,
            "bin_end": 0.5896181884049008,
            "count": 2
           },
           {
            "bin_start": 0.5896181884049008,
            "bin_end": 0.7264121256032672,
            "count": 0
           },
           {
            "bin_start": 0.7264121256032672,
            "bin_end": 0.8632060628016336,
            "count": 0
           },
           {
            "bin_start": 0.8632060628016336,
            "bin_end": 1,
            "count": 1
           }
          ]
         }
        },
        {
         "name": "chlorides",
         "dtype": "float64",
         "stats": {
          "unique_count": 12,
          "nan_count": 0,
          "min": "-0.29208429803109764",
          "max": "1.0",
          "histogram": [
           {
            "bin_start": -0.29208429803109764,
            "bin_end": -0.16287586822798789,
            "count": 4
           },
           {
            "bin_start": -0.16287586822798789,
            "bin_end": -0.03366743842487813,
            "count": 1
           },
           {
            "bin_start": -0.03366743842487813,
            "bin_end": 0.09554099137823163,
            "count": 2
           },
           {
            "bin_start": 0.09554099137823163,
            "bin_end": 0.2247494211813414,
            "count": 0
           },
           {
            "bin_start": 0.2247494211813414,
            "bin_end": 0.35395785098445115,
            "count": 1
           },
           {
            "bin_start": 0.35395785098445115,
            "bin_end": 0.4831662807875609,
            "count": 3
           },
           {
            "bin_start": 0.4831662807875609,
            "bin_end": 0.6123747105906707,
            "count": 0
           },
           {
            "bin_start": 0.6123747105906707,
            "bin_end": 0.7415831403937805,
            "count": 0
           },
           {
            "bin_start": 0.7415831403937805,
            "bin_end": 0.8707915701968902,
            "count": 0
           },
           {
            "bin_start": 0.8707915701968902,
            "bin_end": 1,
            "count": 1
           }
          ]
         }
        },
        {
         "name": "free sulfur dioxide",
         "dtype": "float64",
         "stats": {
          "unique_count": 12,
          "nan_count": 0,
          "min": "-0.3594488347111078",
          "max": "1.0",
          "histogram": [
           {
            "bin_start": -0.3594488347111078,
            "bin_end": -0.223503951239997,
            "count": 2
           },
           {
            "bin_start": -0.223503951239997,
            "bin_end": -0.08755906776888622,
            "count": 4
           },
           {
            "bin_start": -0.08755906776888622,
            "bin_end": 0.048385815702224555,
            "count": 2
           },
           {
            "bin_start": 0.048385815702224555,
            "bin_end": 0.18433069917333533,
            "count": 1
           },
           {
            "bin_start": 0.18433069917333533,
            "bin_end": 0.3202755826444461,
            "count": 0
           },
           {
            "bin_start": 0.3202755826444461,
            "bin_end": 0.4562204661155569,
            "count": 1
           },
           {
            "bin_start": 0.4562204661155569,
            "bin_end": 0.5921653495866677,
            "count": 0
           },
           {
            "bin_start": 0.5921653495866677,
            "bin_end": 0.7281102330577784,
            "count": 1
           },
           {
            "bin_start": 0.7281102330577784,
            "bin_end": 0.8640551165288892,
            "count": 0
           },
           {
            "bin_start": 0.8640551165288892,
            "bin_end": 1,
            "count": 1
           }
          ]
         }
        },
        {
         "name": "total sulfur dioxide",
         "dtype": "float64",
         "stats": {
          "unique_count": 12,
          "nan_count": 0,
          "min": "-0.41793497620577447",
          "max": "1.0",
          "histogram": [
           {
            "bin_start": -0.41793497620577447,
            "bin_end": -0.276141478585197,
            "count": 4
           },
           {
            "bin_start": -0.276141478585197,
            "bin_end": -0.13434798096461958,
            "count": 2
           },
           {
            "bin_start": -0.13434798096461958,
            "bin_end": 0.007445516655957829,
            "count": 1
           },
           {
            "bin_start": 0.007445516655957829,
            "bin_end": 0.1492390142765353,
            "count": 1
           },
           {
            "bin_start": 0.1492390142765353,
            "bin_end": 0.29103251189711277,
            "count": 1
           },
           {
            "bin_start": 0.29103251189711277,
            "bin_end": 0.4328260095176901,
            "count": 0
           },
           {
            "bin_start": 0.4328260095176901,
            "bin_end": 0.5746195071382676,
            "count": 1
           },
           {
            "bin_start": 0.5746195071382676,
            "bin_end": 0.7164130047588451,
            "count": 0
           },
           {
            "bin_start": 0.7164130047588451,
            "bin_end": 0.8582065023794225,
            "count": 1
           },
           {
            "bin_start": 0.8582065023794225,
            "bin_end": 1,
            "count": 1
           }
          ]
         }
        },
        {
         "name": "density",
         "dtype": "float64",
         "stats": {
          "unique_count": 12,
          "nan_count": 0,
          "min": "-0.6801396196551803",
          "max": "1.0",
          "histogram": [
           {
            "bin_start": -0.6801396196551803,
            "bin_end": -0.5121256576896622,
            "count": 1
           },
           {
            "bin_start": -0.5121256576896622,
            "bin_end": -0.34411169572414424,
            "count": 0
           },
           {
            "bin_start": -0.34411169572414424,
            "bin_end": -0.17609773375862625,
            "count": 1
           },
           {
            "bin_start": -0.17609773375862625,
            "bin_end": -0.008083771793108152,
            "count": 0
           },
           {
            "bin_start": -0.008083771793108152,
            "bin_end": 0.15993019017240995,
            "count": 4
           },
           {
            "bin_start": 0.15993019017240995,
            "bin_end": 0.3279441521379278,
            "count": 2
           },
           {
            "bin_start": 0.3279441521379278,
            "bin_end": 0.4959581141034459,
            "count": 2
           },
           {
            "bin_start": 0.4959581141034459,
            "bin_end": 0.663972076068964,
            "count": 1
           },
           {
            "bin_start": 0.663972076068964,
            "bin_end": 0.8319860380344821,
            "count": 0
           },
           {
            "bin_start": 0.8319860380344821,
            "bin_end": 1,
            "count": 1
           }
          ]
         }
        },
        {
         "name": "pH",
         "dtype": "float64",
         "stats": {
          "unique_count": 12,
          "nan_count": 0,
          "min": "-0.3251336489702835",
          "max": "1.0",
          "histogram": [
           {
            "bin_start": -0.3251336489702835,
            "bin_end": -0.19262028407325518,
            "count": 4
           },
           {
            "bin_start": -0.19262028407325518,
            "bin_end": -0.06010691917622685,
            "count": 1
           },
           {
            "bin_start": -0.06010691917622685,
            "bin_end": 0.07240644572080146,
            "count": 3
           },
           {
            "bin_start": 0.07240644572080146,
            "bin_end": 0.20491981061782982,
            "count": 2
           },
           {
            "bin_start": 0.20491981061782982,
            "bin_end": 0.3374331755148582,
            "count": 1
           },
           {
            "bin_start": 0.3374331755148582,
            "bin_end": 0.46994654041188644,
            "count": 0
           },
           {
            "bin_start": 0.46994654041188644,
            "bin_end": 0.6024599053089148,
            "count": 0
           },
           {
            "bin_start": 0.6024599053089148,
            "bin_end": 0.7349732702059432,
            "count": 0
           },
           {
            "bin_start": 0.7349732702059432,
            "bin_end": 0.8674866351029714,
            "count": 0
           },
           {
            "bin_start": 0.8674866351029714,
            "bin_end": 1,
            "count": 1
           }
          ]
         }
        },
        {
         "name": "sulphates",
         "dtype": "float64",
         "stats": {
          "unique_count": 12,
          "nan_count": 0,
          "min": "-0.2941585553126057",
          "max": "1.0",
          "histogram": [
           {
            "bin_start": -0.2941585553126057,
            "bin_end": -0.16474269978134515,
            "count": 3
           },
           {
            "bin_start": -0.16474269978134515,
            "bin_end": -0.03532684425008459,
            "count": 0
           },
           {
            "bin_start": -0.03532684425008459,
            "bin_end": 0.09408901128117597,
            "count": 3
           },
           {
            "bin_start": 0.09408901128117597,
            "bin_end": 0.22350486681243653,
            "count": 1
           },
           {
            "bin_start": 0.22350486681243653,
            "bin_end": 0.3529207223436971,
            "count": 3
           },
           {
            "bin_start": 0.3529207223436971,
            "bin_end": 0.48233657787495765,
            "count": 1
           },
           {
            "bin_start": 0.48233657787495765,
            "bin_end": 0.6117524334062182,
            "count": 0
           },
           {
            "bin_start": 0.6117524334062182,
            "bin_end": 0.7411682889374788,
            "count": 0
           },
           {
            "bin_start": 0.7411682889374788,
            "bin_end": 0.8705841444687393,
            "count": 0
           },
           {
            "bin_start": 0.8705841444687393,
            "bin_end": 1,
            "count": 1
           }
          ]
         }
        },
        {
         "name": "alcohol",
         "dtype": "float64",
         "stats": {
          "unique_count": 12,
          "nan_count": 0,
          "min": "-0.6801396196551803",
          "max": "1.0",
          "histogram": [
           {
            "bin_start": -0.6801396196551803,
            "bin_end": -0.5121256576896622,
            "count": 1
           },
           {
            "bin_start": -0.5121256576896622,
            "bin_end": -0.34411169572414424,
            "count": 1
           },
           {
            "bin_start": -0.34411169572414424,
            "bin_end": -0.17609773375862625,
            "count": 3
           },
           {
            "bin_start": -0.17609773375862625,
            "bin_end": -0.008083771793108152,
            "count": 3
           },
           {
            "bin_start": -0.008083771793108152,
            "bin_end": 0.15993019017240995,
            "count": 2
           },
           {
            "bin_start": 0.15993019017240995,
            "bin_end": 0.3279441521379278,
            "count": 0
           },
           {
            "bin_start": 0.3279441521379278,
            "bin_end": 0.4959581141034459,
            "count": 1
           },
           {
            "bin_start": 0.4959581141034459,
            "bin_end": 0.663972076068964,
            "count": 0
           },
           {
            "bin_start": 0.663972076068964,
            "bin_end": 0.8319860380344821,
            "count": 0
           },
           {
            "bin_start": 0.8319860380344821,
            "bin_end": 1,
            "count": 1
           }
          ]
         }
        },
        {
         "name": "quality",
         "dtype": "float64",
         "stats": {
          "unique_count": 12,
          "nan_count": 0,
          "min": "-0.31927404756013583",
          "max": "1.0",
          "histogram": [
           {
            "bin_start": -0.31927404756013583,
            "bin_end": -0.18734664280412225,
            "count": 3
           },
           {
            "bin_start": -0.18734664280412225,
            "bin_end": -0.055419238048108665,
            "count": 3
           },
           {
            "bin_start": -0.055419238048108665,
            "bin_end": 0.07650816670790489,
            "count": 4
           },
           {
            "bin_start": 0.07650816670790489,
            "bin_end": 0.2084355714639185,
            "count": 0
           },
           {
            "bin_start": 0.2084355714639185,
            "bin_end": 0.3403629762199321,
            "count": 0
           },
           {
            "bin_start": 0.3403629762199321,
            "bin_end": 0.4722903809759456,
            "count": 1
           },
           {
            "bin_start": 0.4722903809759456,
            "bin_end": 0.6042177857319593,
            "count": 0
           },
           {
            "bin_start": 0.6042177857319593,
            "bin_end": 0.7361451904879728,
            "count": 0
           },
           {
            "bin_start": 0.7361451904879728,
            "bin_end": 0.8680725952439863,
            "count": 0
           },
           {
            "bin_start": 0.8680725952439863,
            "bin_end": 1,
            "count": 1
           }
          ]
         }
        },
        {
         "name": "_deepnote_index_column",
         "dtype": "object"
        }
       ],
       "rows": [
        {
         "fixed acidity": 1,
         "volatile acidity": 0.23357656006303024,
         "citric acid": 0.320563065768705,
         "residual sugar": -0.1222186523787257,
         "chlorides": 0.3027563467309533,
         "free sulfur dioxide": -0.29877216534442297,
         "total sulfur dioxide": -0.34348306316039506,
         "density": 0.4531563507624978,
         "pH": -0.24244282552826316,
         "sulphates": 0.3120861409700374,
         "alcohol": -0.0780861276707437,
         "quality": -0.05848294180972649,
         "_deepnote_index_column": "fixed acidity"
        },
        {
         "fixed acidity": 0.23357656006303024,
         "volatile acidity": 1,
         "citric acid": -0.36985726160628285,
         "residual sugar": -0.19434404918167136,
         "chlorides": 0.3871447973849535,
         "free sulfur dioxide": -0.3594488347111078,
         "total sulfur dioxide": -0.41793497620577447,
         "density": 0.28333436392228506,
         "pH": 0.25555447482837995,
         "sulphates": 0.2480413869851765,
         "alcohol": -0.04102538199462899,
         "quality": -0.24195988178341116,
         "_deepnote_index_column": "volatile acidity"
        },
        {
         "fixed acidity": 0.320563065768705,
         "volatile acidity": -0.36985726160628285,
         "citric acid": 1,
         "residual sugar": 0.13882188924270117,
         "chlorides": 0.03951638209325578,
         "free sulfur dioxide": 0.13320367067184405,
         "total sulfur dioxide": 0.19053957634563023,
         "density": 0.09724144014219344,
         "pH": -0.3251336489702835,
         "sulphates": 0.04722173041191467,
         "alcohol": -0.013985479379007508,
         "quality": 0.06805003544137626,
         "_deepnote_index_column": "citric acid"
        },
        {
         "fixed acidity": -0.1222186523787257,
         "volatile acidity": -0.19434404918167136,
         "citric acid": 0.13882188924270117,
         "residual sugar": 1,
         "chlorides": -0.13948201826539797,
         "free sulfur dioxide": 0.4221157950153311,
         "total sulfur dioxide": 0.5005487290802828,
         "density": 0.5562174067666911,
         "pH": -0.26418213601479257,
         "sulphates": -0.19217533981918397,
         "alcohol": -0.3679393719836645,
         "quality": -0.07225246046468863,
         "_deepnote_index_column": "residual sugar"
        },
        {
         "fixed acidity": 0.3027563467309533,
         "volatile acidity": 0.3871447973849535,
         "citric acid": 0.03951638209325578,
         "residual sugar": -0.13948201826539797,
         "chlorides": 1,
         "free sulfur dioxide": -0.20598780629312244,
         "total sulfur dioxide": -0.29208429803109764,
         "density": 0.356387455965223,
         "pH": 0.05035976770849951,
         "sulphates": 0.39010433571169634,
         "alcohol": -0.24917424594898438,
         "quality": -0.2006845765523071,
         "_deepnote_index_column": "chlorides"
        },
        {
         "fixed acidity": -0.29877216534442297,
         "volatile acidity": -0.3594488347111078,
         "citric acid": 0.13320367067184405,
         "residual sugar": 0.4221157950153311,
         "chlorides": -0.20598780629312244,
         "free sulfur dioxide": 1,
         "total sulfur dioxide": 0.7278529605028995,
         "density": 0.030671926251391108,
         "pH": -0.15832987946027735,
         "sulphates": -0.21640512153541716,
         "alcohol": -0.1983677152889534,
         "quality": 0.00945073840050587,
         "_deepnote_index_column": "free sulfur dioxide"
        },
        {
         "fixed acidity": -0.34348306316039506,
         "volatile acidity": -0.41793497620577447,
         "citric acid": 0.19053957634563023,
         "residual sugar": 0.5005487290802828,
         "chlorides": -0.29208429803109764,
         "free sulfur dioxide": 0.7278529605028995,
         "total sulfur dioxide": 1,
         "density": 0.02786567500030212,
         "pH": -0.2442909749204031,
         "sulphates": -0.2941585553126057,
         "alcohol": -0.27225758295652114,
         "quality": -0.07600298536379153,
         "_deepnote_index_column": "total sulfur dioxide"
        },
        {
         "fixed acidity": 0.4531563507624978,
         "volatile acidity": 0.28333436392228506,
         "citric acid": 0.09724144014219344,
         "residual sugar": 0.5562174067666911,
         "chlorides": 0.356387455965223,
         "free sulfur dioxide": 0.030671926251391108,
         "total sulfur dioxide": 0.02786567500030212,
         "density": 1,
         "pH": 0.017353684017086646,
         "sulphates": 0.26078482307916784,
         "alcohol": -0.6801396196551803,
         "quality": -0.31927404756013583,
         "_deepnote_index_column": "density"
        },
        {
         "fixed acidity": -0.24244282552826316,
         "volatile acidity": 0.25555447482837995,
         "citric acid": -0.3251336489702835,
         "residual sugar": -0.26418213601479257,
         "chlorides": 0.05035976770849951,
         "free sulfur dioxide": -0.15832987946027735,
         "total sulfur dioxide": -0.2442909749204031,
         "density": 0.017353684017086646,
         "pH": 1,
         "sulphates": 0.19613257380458116,
         "alcohol": 0.11844792831637356,
         "quality": 0.03348270548565068,
         "_deepnote_index_column": "pH"
        },
        {
         "fixed acidity": 0.3120861409700374,
         "volatile acidity": 0.2480413869851765,
         "citric acid": 0.04722173041191467,
         "residual sugar": -0.19217533981918397,
         "chlorides": 0.39010433571169634,
         "free sulfur dioxide": -0.21640512153541716,
         "total sulfur dioxide": -0.2941585553126057,
         "density": 0.26078482307916784,
         "pH": 0.19613257380458116,
         "sulphates": 1,
         "alcohol": 0.0010149276694981372,
         "quality": 0.046152276040971774,
         "_deepnote_index_column": "sulphates"
        }
       ]
      },
      "text/plain": "                      fixed acidity  volatile acidity  citric acid  \\\nfixed acidity              1.000000          0.233577     0.320563   \nvolatile acidity           0.233577          1.000000    -0.369857   \ncitric acid                0.320563         -0.369857     1.000000   \nresidual sugar            -0.122219         -0.194344     0.138822   \nchlorides                  0.302756          0.387145     0.039516   \nfree sulfur dioxide       -0.298772         -0.359449     0.133204   \ntotal sulfur dioxide      -0.343483         -0.417935     0.190540   \ndensity                    0.453156          0.283334     0.097241   \npH                        -0.242443          0.255554    -0.325134   \nsulphates                  0.312086          0.248041     0.047222   \nalcohol                   -0.078086         -0.041025    -0.013985   \nquality                   -0.058483         -0.241960     0.068050   \n\n                      residual sugar  chlorides  free sulfur dioxide  \\\nfixed acidity              -0.122219   0.302756            -0.298772   \nvolatile acidity           -0.194344   0.387145            -0.359449   \ncitric acid                 0.138822   0.039516             0.133204   \nresidual sugar              1.000000  -0.139482             0.422116   \nchlorides                  -0.139482   1.000000            -0.205988   \nfree sulfur dioxide         0.422116  -0.205988             1.000000   \ntotal sulfur dioxide        0.500549  -0.292084             0.727853   \ndensity                     0.556217   0.356387             0.030672   \npH                         -0.264182   0.050360            -0.158330   \nsulphates                  -0.192175   0.390104            -0.216405   \nalcohol                    -0.367939  -0.249174            -0.198368   \nquality                    -0.072252  -0.200685             0.009451   \n\n                      total sulfur dioxide   density        pH  sulphates  \\\nfixed acidity                    -0.343483  0.453156 -0.242443   0.312086   \nvolatile acidity                 -0.417935  0.283334  0.255554   0.248041   \ncitric acid                       0.190540  0.097241 -0.325134   0.047222   \nresidual sugar                    0.500549  0.556217 -0.264182  -0.192175   \nchlorides                        -0.292084  0.356387  0.050360   0.390104   \nfree sulfur dioxide               0.727853  0.030672 -0.158330  -0.216405   \ntotal sulfur dioxide              1.000000  0.027866 -0.244291  -0.294159   \ndensity                           0.027866  1.000000  0.017354   0.260785   \npH                               -0.244291  0.017354  1.000000   0.196133   \nsulphates                        -0.294159  0.260785  0.196133   1.000000   \nalcohol                          -0.272258 -0.680140  0.118448   0.001015   \nquality                          -0.076003 -0.319274  0.033483   0.046152   \n\n                       alcohol   quality  \nfixed acidity        -0.078086 -0.058483  \nvolatile acidity     -0.041025 -0.241960  \ncitric acid          -0.013985  0.068050  \nresidual sugar       -0.367939 -0.072252  \nchlorides            -0.249174 -0.200685  \nfree sulfur dioxide  -0.198368  0.009451  \ntotal sulfur dioxide -0.272258 -0.076003  \ndensity              -0.680140 -0.319274  \npH                    0.118448  0.033483  \nsulphates             0.001015  0.046152  \nalcohol               1.000000  0.463646  \nquality               0.463646  1.000000  ",
      "text/html": "<div>\n<style scoped>\n    .dataframe tbody tr th:only-of-type {\n        vertical-align: middle;\n    }\n\n    .dataframe tbody tr th {\n        vertical-align: top;\n    }\n\n    .dataframe thead th {\n        text-align: right;\n    }\n</style>\n<table border=\"1\" class=\"dataframe\">\n  <thead>\n    <tr style=\"text-align: right;\">\n      <th></th>\n      <th>fixed acidity</th>\n      <th>volatile acidity</th>\n      <th>citric acid</th>\n      <th>residual sugar</th>\n      <th>chlorides</th>\n      <th>free sulfur dioxide</th>\n      <th>total sulfur dioxide</th>\n      <th>density</th>\n      <th>pH</th>\n      <th>sulphates</th>\n      <th>alcohol</th>\n      <th>quality</th>\n    </tr>\n  </thead>\n  <tbody>\n    <tr>\n      <th>fixed acidity</th>\n      <td>1.000000</td>\n      <td>0.233577</td>\n      <td>0.320563</td>\n      <td>-0.122219</td>\n      <td>0.302756</td>\n      <td>-0.298772</td>\n      <td>-0.343483</td>\n      <td>0.453156</td>\n      <td>-0.242443</td>\n      <td>0.312086</td>\n      <td>-0.078086</td>\n      <td>-0.058483</td>\n    </tr>\n    <tr>\n      <th>volatile acidity</th>\n      <td>0.233577</td>\n      <td>1.000000</td>\n      <td>-0.369857</td>\n      <td>-0.194344</td>\n      <td>0.387145</td>\n      <td>-0.359449</td>\n      <td>-0.417935</td>\n      <td>0.283334</td>\n      <td>0.255554</td>\n      <td>0.248041</td>\n      <td>-0.041025</td>\n      <td>-0.241960</td>\n    </tr>\n    <tr>\n      <th>citric acid</th>\n      <td>0.320563</td>\n      <td>-0.369857</td>\n      <td>1.000000</td>\n      <td>0.138822</td>\n      <td>0.039516</td>\n      <td>0.133204</td>\n      <td>0.190540</td>\n      <td>0.097241</td>\n      <td>-0.325134</td>\n      <td>0.047222</td>\n      <td>-0.013985</td>\n      <td>0.068050</td>\n    </tr>\n    <tr>\n      <th>residual sugar</th>\n      <td>-0.122219</td>\n      <td>-0.194344</td>\n      <td>0.138822</td>\n      <td>1.000000</td>\n      <td>-0.139482</td>\n      <td>0.422116</td>\n      <td>0.500549</td>\n      <td>0.556217</td>\n      <td>-0.264182</td>\n      <td>-0.192175</td>\n      <td>-0.367939</td>\n      <td>-0.072252</td>\n    </tr>\n    <tr>\n      <th>chlorides</th>\n      <td>0.302756</td>\n      <td>0.387145</td>\n      <td>0.039516</td>\n      <td>-0.139482</td>\n      <td>1.000000</td>\n      <td>-0.205988</td>\n      <td>-0.292084</td>\n      <td>0.356387</td>\n      <td>0.050360</td>\n      <td>0.390104</td>\n      <td>-0.249174</td>\n      <td>-0.200685</td>\n    </tr>\n    <tr>\n      <th>free sulfur dioxide</th>\n      <td>-0.298772</td>\n      <td>-0.359449</td>\n      <td>0.133204</td>\n      <td>0.422116</td>\n      <td>-0.205988</td>\n      <td>1.000000</td>\n      <td>0.727853</td>\n      <td>0.030672</td>\n      <td>-0.158330</td>\n      <td>-0.216405</td>\n      <td>-0.198368</td>\n      <td>0.009451</td>\n    </tr>\n    <tr>\n      <th>total sulfur dioxide</th>\n      <td>-0.343483</td>\n      <td>-0.417935</td>\n      <td>0.190540</td>\n      <td>0.500549</td>\n      <td>-0.292084</td>\n      <td>0.727853</td>\n      <td>1.000000</td>\n      <td>0.027866</td>\n      <td>-0.244291</td>\n      <td>-0.294159</td>\n      <td>-0.272258</td>\n      <td>-0.076003</td>\n    </tr>\n    <tr>\n      <th>density</th>\n      <td>0.453156</td>\n      <td>0.283334</td>\n      <td>0.097241</td>\n      <td>0.556217</td>\n      <td>0.356387</td>\n      <td>0.030672</td>\n      <td>0.027866</td>\n      <td>1.000000</td>\n      <td>0.017354</td>\n      <td>0.260785</td>\n      <td>-0.680140</td>\n      <td>-0.319274</td>\n    </tr>\n    <tr>\n      <th>pH</th>\n      <td>-0.242443</td>\n      <td>0.255554</td>\n      <td>-0.325134</td>\n      <td>-0.264182</td>\n      <td>0.050360</td>\n      <td>-0.158330</td>\n      <td>-0.244291</td>\n      <td>0.017354</td>\n      <td>1.000000</td>\n      <td>0.196133</td>\n      <td>0.118448</td>\n      <td>0.033483</td>\n    </tr>\n    <tr>\n      <th>sulphates</th>\n      <td>0.312086</td>\n      <td>0.248041</td>\n      <td>0.047222</td>\n      <td>-0.192175</td>\n      <td>0.390104</td>\n      <td>-0.216405</td>\n      <td>-0.294159</td>\n      <td>0.260785</td>\n      <td>0.196133</td>\n      <td>1.000000</td>\n      <td>0.001015</td>\n      <td>0.046152</td>\n    </tr>\n    <tr>\n      <th>alcohol</th>\n      <td>-0.078086</td>\n      <td>-0.041025</td>\n      <td>-0.013985</td>\n      <td>-0.367939</td>\n      <td>-0.249174</td>\n      <td>-0.198368</td>\n      <td>-0.272258</td>\n      <td>-0.680140</td>\n      <td>0.118448</td>\n      <td>0.001015</td>\n      <td>1.000000</td>\n      <td>0.463646</td>\n    </tr>\n    <tr>\n      <th>quality</th>\n      <td>-0.058483</td>\n      <td>-0.241960</td>\n      <td>0.068050</td>\n      <td>-0.072252</td>\n      <td>-0.200685</td>\n      <td>0.009451</td>\n      <td>-0.076003</td>\n      <td>-0.319274</td>\n      <td>0.033483</td>\n      <td>0.046152</td>\n      <td>0.463646</td>\n      <td>1.000000</td>\n    </tr>\n  </tbody>\n</table>\n</div>"
     },
     "metadata": {}
    }
   ]
  },
  {
   "cell_type": "markdown",
   "source": "2. Crea una gráfica tipo heatmap para observar mejor las correlaciones entre variables. ",
   "metadata": {
    "cell_id": "401d860aa0f042a693136be305db2be9",
    "tags": [],
    "deepnote_cell_type": "markdown",
    "deepnote_cell_height": 68.73333740234375
   }
  },
  {
   "cell_type": "code",
   "metadata": {
    "cell_id": "420eaba4b31c42258e8f87ae64936444",
    "tags": [],
    "owner_user_id": "257c0c75-3144-4ffc-8aa5-a1c61e01187f",
    "deepnote_to_be_reexecuted": false,
    "source_hash": "3c002f02",
    "execution_start": 1653353401054,
    "execution_millis": 2217,
    "deepnote_cell_type": "code",
    "deepnote_cell_height": 101.33332824707031
   },
   "source": "plt.figure(figsize=(8, 6))\nsns.heatmap(corr_df, annot=True)\nplt.show()",
   "execution_count": 41,
   "outputs": [
    {
     "data": {
      "text/plain": "<Figure size 576x432 with 2 Axes>",
      "image/png": "[encoded data removed]"
     },
     "metadata": {
      "needs_background": "light",
      "image/png": {
       "width": 542,
       "height": 445
      }
     },
     "output_type": "display_data"
    }
   ]
  },
  {
   "cell_type": "markdown",
   "source": "3. Muestra una tabla con los valores de correlación de cada variable con la variable `quality`.",
   "metadata": {
    "cell_id": "ba7553a7a6df431b9ddc9fe99134acac",
    "tags": [],
    "deepnote_cell_type": "markdown",
    "deepnote_cell_height": 68.73333740234375
   }
  },
  {
   "cell_type": "code",
   "metadata": {
    "cell_id": "593ca5e8504a4af3ad11a817dd3855d8",
    "tags": [],
    "deepnote_cell_type": "code",
    "deepnote_cell_height": 65.33332824707031
   },
   "source": "total_wine.____()[['____']].sort_values(by='____', ascending = False)",
   "execution_count": null,
   "outputs": []
  },
  {
   "cell_type": "markdown",
   "source": "4. Responde las siguientes preguntas:\n\na) ¿Existen variables que tengan correlación positiva con la variable `quality`? ¿Cuáles son?\n\nb) ¿Existen variables que tengan correlación negativa con la variable `quality`? ¿Cuáles son?",
   "metadata": {
    "cell_id": "6e781ef4fa384c799e3215c66e9959df",
    "tags": [],
    "deepnote_cell_type": "markdown",
    "deepnote_cell_height": 127.53334045410156
   }
  },
  {
   "cell_type": "markdown",
   "source": "Las variables que más correlación tienen con la calidad son:\n\na) Positivamente:\n- *escribe aquí tus respuetas*\n\nb) Negativamente:\n- *escribe aquí tus respuetas*",
   "metadata": {
    "cell_id": "752b87ce20b84a988547a0c67423d0ad",
    "tags": [],
    "deepnote_cell_type": "markdown",
    "deepnote_cell_height": 212
   }
  },
  {
   "cell_type": "markdown",
   "source": "5. Crea las gráficas que consideres para ver la correlación que exista entre las variables que encontraste que tienen mayor correlación con la variable `quality`.",
   "metadata": {
    "cell_id": "b2fcf82558be4c67a5640b3e559db1d5",
    "tags": [],
    "deepnote_cell_type": "markdown",
    "deepnote_cell_height": 91.13333129882812
   }
  },
  {
   "cell_type": "code",
   "metadata": {
    "cell_id": "8c6e4fdb7b1742bebbd02e444fbe77a0",
    "tags": [],
    "deepnote_cell_type": "code",
    "deepnote_cell_height": 65.33332824707031
   },
   "source": "",
   "execution_count": null,
   "outputs": []
  },
  {
   "cell_type": "markdown",
   "source": "6. Responde las preguntas: \n\na) ¿Existen variables correlacionadas con la calidad que estén correlacionadas fuertemente entre sí?\n\nb) ¿Esta información para que nos serviría?",
   "metadata": {
    "cell_id": "b53faef38b4c4808bf61302e06ccdde3",
    "tags": [],
    "deepnote_cell_type": "markdown",
    "deepnote_cell_height": 127.53334045410156
   }
  },
  {
   "cell_type": "markdown",
   "source": "*Escribe aquí tu respuesta.*",
   "metadata": {
    "cell_id": "954080e688184399b43fc3bfcffe0d0d",
    "tags": [],
    "deepnote_cell_type": "markdown",
    "deepnote_cell_height": 51.73333740234375
   }
  },
  {
   "cell_type": "markdown",
   "source": "7. Crea gráficas de barras y de violín para ver a detalle cómo las variables que tienen correlación más fuerte con la variable `quality`, afectan a dicha variable.\n\n- En el eje x deberán aparecer las categorías de calidad: Poor, Medium High.\n\n- En el eje y deberá aparecer la variable correspondiente.\n\n- Toma en cuenta los valores máximo y mínimo de cada variable para marcar los límites en el eje y.\n\nAl finalizar obtendrás gráficas como estas:\n\n<img src=/work/EDA_WINE/density.png>\n<img src=/work/EDA_WINE/density_violin.png>\n",
   "metadata": {
    "cell_id": "3c0f1c3a025446628d1ae960ec8c8737",
    "tags": [],
    "deepnote_cell_type": "markdown",
    "deepnote_cell_height": 690.7333374023438
   }
  },
  {
   "cell_type": "code",
   "metadata": {
    "cell_id": "bccbdb7e0e5740678599f74c6997395f",
    "tags": [],
    "deepnote_cell_type": "code",
    "deepnote_cell_height": 65.33332824707031
   },
   "source": "",
   "execution_count": null,
   "outputs": []
  },
  {
   "cell_type": "code",
   "metadata": {
    "cell_id": "2702082b96ee4310bffc0135a79c7b72",
    "tags": [],
    "deepnote_cell_type": "code",
    "deepnote_cell_height": 65.33332824707031
   },
   "source": "",
   "execution_count": null,
   "outputs": []
  },
  {
   "cell_type": "code",
   "metadata": {
    "cell_id": "1ef73a243dd34ef6bb4974a085c5fa79",
    "tags": [],
    "deepnote_cell_type": "code",
    "deepnote_cell_height": 65.33332824707031
   },
   "source": "",
   "execution_count": null,
   "outputs": []
  },
  {
   "cell_type": "markdown",
   "source": "8. Responde las siguientes preguntas como conclusiones de este EDA:\n\na) ¿Cuáles son las variables que podrían afectarían a la calidad del vino?\n\nb) ¿Es necesario aumentar o disminuir la cantidad de dichas variables para aumentar la calidad?\n\nc) ¿Cuál es la variable que más podría afectar a la calidad del vino?",
   "metadata": {
    "cell_id": "2ba9d851eeb94f6aadd80ec8c6dc0b9d",
    "tags": [],
    "deepnote_cell_type": "markdown",
    "deepnote_cell_height": 163.93333435058594
   }
  },
  {
   "cell_type": "markdown",
   "source": "*Escribe aquí tus respuestas.*",
   "metadata": {
    "cell_id": "5ffffa09de4b4b3cbb963a3fc369cca3",
    "tags": [],
    "deepnote_cell_type": "markdown",
    "deepnote_cell_height": 51.73333740234375
   }
  },
  {
   "cell_type": "markdown",
   "source": "### *Clases sugeridas*:\n\nEstadística descriptiva y EDA\n- [Correlaciones](https://platzi.com/clases/2353-estadistica-descriptiva/38409-correlaciones/?utm_source=contenido&utm_medium=organic&utm_campaign=ejercicio-eda)\n\n- [Matriz de covarianza](https://platzi.com/clases/2353-estadistica-descriptiva/38410-matriz-de-covarianza/?utm_source=contenido&utm_medium=organic&utm_campaign=ejercicio-eda)\n\n- [Correlación](https://platzi.com/clases/2178-analisis-exploratorio-datos/34151-correlacion/?utm_source=contenido&utm_medium=organic&utm_campaign=ejercicio-eda)\n\nGráficas\n- [Relation (Seaborn)](https://platzi.com/clases/2913-matplotlib-seaborn/47951-relation/?utm_source=contenido&utm_medium=organic&utm_campaign=ejercicio-eda)\n\n- [Heatmap (Seaborn)](https://platzi.com/clases/2913-matplotlib-seaborn/47953-heatmap/?utm_source=contenido&utm_medium=organic&utm_campaign=ejercicio-eda)\n\n- [Jointplot y Pairplot (Seaborn)](https://platzi.com/clases/2913-matplotlib-seaborn/47952-jointplot-y-pairplot/?utm_source=contenido&utm_medium=organic&utm_campaign=ejercicio-eda)\n\n- [Bar Plot (Matplotlib)](https://platzi.com/clases/2913-matplotlib-seaborn/47944-bar-plot/?utm_source=contenido&utm_medium=organic&utm_campaign=ejercicio-eda)\n\n- [Categóricos (Violin plot en Seaborn)](https://platzi.com/clases/2913-matplotlib-seaborn/47950-categoricos/?utm_source=contenido&utm_medium=organic&utm_campaign=ejercicio-eda)",
   "metadata": {
    "cell_id": "5b77e5a9fe5d464b9a62d33ba2ea9721",
    "tags": [],
    "deepnote_cell_type": "markdown",
    "deepnote_cell_height": 375.33331298828125
   }
  },
  {
   "cell_type": "markdown",
   "source": "## Siguientes pasos 🚀",
   "metadata": {
    "cell_id": "42cc8a600e7346029ba3c35880ee269a",
    "tags": [],
    "deepnote_cell_type": "markdown",
    "deepnote_cell_height": 69.33332824707031
   }
  },
  {
   "cell_type": "markdown",
   "source": "---\n\n¡Muchas felicidades! Has creado tu primer proyecto de análisis exploratorio de datos.\n\nEs importante que recuerdes que dentro del análisis exploratorio de datos hay múltiples caminos y herramientas de acuerdo a lo que quieras lograr. Podríamos ir más allá en la manipulación y análisis de datos. Incluso podríamos utilizar machine learning para validar nuestra hipótesis.\n\nEn este momento ya tienes **el primer proyecto para tu portafolio profesional**. Para seguir avanzando en tu carrera te recomendamos el [Curso para Crear tus Proyectos de Ciencia de Datos](https://platzi.com/cursos/proyectos-data-science/?utm_source=contenido&utm_medium=organic&utm_campaign=ejercicio-eda) y el [Curso para Conseguir Trabajo en Tecnología](https://platzi.com/cursos/conseguir-trabajo-tech/?utm_source=contenido&utm_medium=organic&utm_campaign=ejercicio-eda) y tendrás todo para unirte a una startup como Data Analyst o Data Scientist. #StartupReady 🚀",
   "metadata": {
    "cell_id": "9d87087a96e7471d825633f6c267fd55",
    "tags": [],
    "deepnote_cell_type": "markdown",
    "deepnote_cell_height": 214.8000030517578
   }
  },
  {
   "cell_type": "markdown",
   "source": "<a style='text-decoration:none;line-height:16px;display:flex;color:#5B5B62;padding:10px;justify-content:end;' href='https://deepnote.com?utm_source=created-in-deepnote-cell&projectId=6e32db5f-979a-4f0f-aa9b-1d7f6e85b80f' target=\"_blank\">\n<img alt='Created in deepnote.com' style='display:inline;max-height:16px;margin:0px;margin-right:7.5px;' src='data:image/svg+xml;base64,PD94bWwgdmVyc2lvbj0iMS4wIiBlbmNvZGluZz0iVVRGLTgiPz4KPHN2ZyB3aWR0aD0iODBweCIgaGVpZ2h0PSI4MHB4IiB2aWV3Qm94PSIwIDAgODAgODAiIHZlcnNpb249IjEuMSIgeG1sbnM9Imh0dHA6Ly93d3cudzMub3JnLzIwMDAvc3ZnIiB4bWxuczp4bGluaz0iaHR0cDovL3d3dy53My5vcmcvMTk5OS94bGluayI+CiAgICA8IS0tIEdlbmVyYXRvcjogU2tldGNoIDU0LjEgKDc2NDkwKSAtIGh0dHBzOi8vc2tldGNoYXBwLmNvbSAtLT4KICAgIDx0aXRsZT5Hcm91cCAzPC90aXRsZT4KICAgIDxkZXNjPkNyZWF0ZWQgd2l0aCBTa2V0Y2guPC9kZXNjPgogICAgPGcgaWQ9IkxhbmRpbmciIHN0cm9rZT0ibm9uZSIgc3Ryb2tlLXdpZHRoPSIxIiBmaWxsPSJub25lIiBmaWxsLXJ1bGU9ImV2ZW5vZGQiPgogICAgICAgIDxnIGlkPSJBcnRib2FyZCIgdHJhbnNmb3JtPSJ0cmFuc2xhdGUoLTEyMzUuMDAwMDAwLCAtNzkuMDAwMDAwKSI+CiAgICAgICAgICAgIDxnIGlkPSJHcm91cC0zIiB0cmFuc2Zvcm09InRyYW5zbGF0ZSgxMjM1LjAwMDAwMCwgNzkuMDAwMDAwKSI+CiAgICAgICAgICAgICAgICA8cG9seWdvbiBpZD0iUGF0aC0yMCIgZmlsbD0iIzAyNjVCNCIgcG9pbnRzPSIyLjM3NjIzNzYyIDgwIDM4LjA0NzY2NjcgODAgNTcuODIxNzgyMiA3My44MDU3NTkyIDU3LjgyMTc4MjIgMzIuNzU5MjczOSAzOS4xNDAyMjc4IDMxLjY4MzE2ODMiPjwvcG9seWdvbj4KICAgICAgICAgICAgICAgIDxwYXRoIGQ9Ik0zNS4wMDc3MTgsODAgQzQyLjkwNjIwMDcsNzYuNDU0OTM1OCA0Ny41NjQ5MTY3LDcxLjU0MjI2NzEgNDguOTgzODY2LDY1LjI2MTk5MzkgQzUxLjExMjI4OTksNTUuODQxNTg0MiA0MS42NzcxNzk1LDQ5LjIxMjIyODQgMjUuNjIzOTg0Niw0OS4yMTIyMjg0IEMyNS40ODQ5Mjg5LDQ5LjEyNjg0NDggMjkuODI2MTI5Niw0My4yODM4MjQ4IDM4LjY0NzU4NjksMzEuNjgzMTY4MyBMNzIuODcxMjg3MSwzMi41NTQ0MjUgTDY1LjI4MDk3Myw2Ny42NzYzNDIxIEw1MS4xMTIyODk5LDc3LjM3NjE0NCBMMzUuMDA3NzE4LDgwIFoiIGlkPSJQYXRoLTIyIiBmaWxsPSIjMDAyODY4Ij48L3BhdGg+CiAgICAgICAgICAgICAgICA8cGF0aCBkPSJNMCwzNy43MzA0NDA1IEwyNy4xMTQ1MzcsMC4yNTcxMTE0MzYgQzYyLjM3MTUxMjMsLTEuOTkwNzE3MDEgODAsMTAuNTAwMzkyNyA4MCwzNy43MzA0NDA1IEM4MCw2NC45NjA0ODgyIDY0Ljc3NjUwMzgsNzkuMDUwMzQxNCAzNC4zMjk1MTEzLDgwIEM0Ny4wNTUzNDg5LDc3LjU2NzA4MDggNTMuNDE4MjY3Nyw3MC4zMTM2MTAzIDUzLjQxODI2NzcsNTguMjM5NTg4NSBDNTMuNDE4MjY3Nyw0MC4xMjg1NTU3IDM2LjMwMzk1NDQsMzcuNzMwNDQwNSAyNS4yMjc0MTcsMzcuNzMwNDQwNSBDMTcuODQzMDU4NiwzNy43MzA0NDA1IDkuNDMzOTE5NjYsMzcuNzMwNDQwNSAwLDM3LjczMDQ0MDUgWiIgaWQ9IlBhdGgtMTkiIGZpbGw9IiMzNzkzRUYiPjwvcGF0aD4KICAgICAgICAgICAgPC9nPgogICAgICAgIDwvZz4KICAgIDwvZz4KPC9zdmc+' > </img>\nCreated in <span style='font-weight:600;margin-left:4px;'>Deepnote</span></a>",
   "metadata": {
    "tags": [],
    "created_in_deepnote_cell": true,
    "deepnote_cell_type": "markdown"
   }
  }
 ],
 "nbformat": 4,
 "nbformat_minor": 2,
 "metadata": {
  "orig_nbformat": 2,
  "deepnote": {},
  "deepnote_notebook_id": "fef5b63c-2807-4eb5-acf8-851291e42e2c",
  "deepnote_execution_queue": []
 }
}